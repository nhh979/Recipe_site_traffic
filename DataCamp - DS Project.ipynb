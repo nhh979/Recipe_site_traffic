{
 "cells": [
  {
   "cell_type": "markdown",
   "id": "a3d4387f-fa24-4a80-906b-4cca195b6736",
   "metadata": {},
   "source": [
    "# Data Scientist Professional Practical Exam Submission\n",
    "\n",
    "**Use this template to write up your summary for submission. Code in Python or R needs to be included.**\n"
   ]
  },
  {
   "cell_type": "markdown",
   "id": "562d9d77-2e1e-4523-a28e-1e3b388f930c",
   "metadata": {},
   "source": [
    "## 📝 Task List\n",
    "\n",
    "Your written report should include both code, output and written text summaries of the following:\n",
    "- Data Validation:   \n",
    "  - Describe validation and cleaning steps for every column in the data \n",
    "- Exploratory Analysis:  \n",
    "  - Include two different graphics showing single variables only to demonstrate the characteristics of data  \n",
    "  - Include at least one graphic showing two or more variables to represent the relationship between features\n",
    "  - Describe your findings\n",
    "- Model Development\n",
    "  - Include your reasons for selecting the models you use as well as a statement of the problem type\n",
    "  - Code to fit the baseline and comparison models\n",
    "- Model Evaluation\n",
    "  - Describe the performance of the two models based on an appropriate metric\n",
    "- Business Metrics\n",
    "  - Define a way to compare your model performance to the business\n",
    "  - Describe how your models perform using this approach\n",
    "- Final summary including recommendations that the business should undertake\n",
    "\n",
    "*Start writing report here..*\n",
    "\n",
    "- Data Validation:  \n",
    "    The dataset has 947 rows and 8 columns.\n",
    "    - **recipe**: numeric values. This column isn't useful for building model, so just drop it.\n",
    "    - **calories, carborhydrate, sugar, protein**: numeric data type. There are 52 missing values (5.5%) in each column and on the same row, so I decide to drop these rows containing missing values. (More details in the Data Preprocessing section)\n",
    "    - **category**: 11 unique categories. No data cleaning for this column.\n",
    "    - **servings**: 4 unique numeric values after cleaning. Remove string 'as a snack' to make the data consistent and convert it to 'int' data type.\n",
    "    - **high_traffic**: 2 unique categories after cleaning. Replace missing values in 'high_traffic' with \"Low\" for visualization, then convert it to a binary feature (0 and 1) for building model.\n",
    "    \n",
    "<!--     - To deal with outliers (more details in 'Deal with outliers' section): \n",
    "        - In each variable, replace the values which are greater than the upper limits of each category with the categories' upper limit.\n",
    "        - Although there are so many unreasonably low calorie values, I find out that leaving them as they are is will make better prediction.\n",
    "    - Create 'total_nutrition' column which is the sum of three columns 'carbohydrate', 'sugar', and 'protein'.\n",
    "    - Create 'calories_per_serving' column representing the amount of calories per serving by dividing 'calories' by 'servings'.\n",
    "    - Create 'cal_per_ser_cat' column which represents categories of food calories per serving.\n",
    "    - Create dummy variables based on 'category' and 'cal_per_ser_cat' columns. -->\n",
    "\n",
    "\n",
    " - Exploratory Analysis:  \n",
    "     - In the first graph, we can see that all numerical variables have right-skewed distributions.\n",
    "     - The second graph shows that Breakfast recipe makes up the highest number of recipes (106 out of 947 recipes, accounting for 11.2%)\n",
    "     - In graph (3), the number of recipes that made high site traffic is pretty much higher than that of recipes that made low site traffic. (60% vs. 40%)\n",
    "     - We can see in plot (4) that Pork recipe has the largest average amount of calories, Potato recipe has the highest average amount of carbohydrate, Dessert recipe has much much more Sugar than other recipes, and similarly Chicken Breast has the most average amount of protein.\n",
    "     - Graph (5) indicates Potato, Vegetable and Pok recipes are popular recipes since they made really high site traffic. Conversely, Beverages recipe is the least popular recipe.\n",
    "     - We also see in the last graph that there is no any correlation between different nutrients with each other and with calories.\n",
    "\n",
    "\n",
    "- Model Development:\n",
    "    - We want to predict which recipes will lead to high traffic, so this is a classification problem.\n",
    "    - I try some different models such as K Nearest Neighbors, Logistic Regression, Decision Tree, Random Forest, Support Vector Machine, and XGBoost and want to see how they perform with default parameters.\n",
    "\n",
    "\n",
    "- Model Evalution: (more details in Model Building and Hyperparameter Tuning sections)\n",
    "    - After running those models with default parameters using 10-fold cross-validation, I figure out that K Nearest Neighbors, Logistic Regression, Support Vector Machine give the best accuracy although it looks like they are a little overfitting.\n",
    "    - Using GridSearchCV and RandomizedSearchCV with 10-fold cross-validation, I find out that  there is a slight improvement from Support Vector Machine model, which has 80% accuracy score and also is the best result out of three models mentioned above.\n",
    "\n",
    "\n",
    "\n",
    "- Business Metrics\n",
    "  - Since the company want to predict correctly popular recipes and reduce the feasibility of appearing less popular recipes, I choose \"Accuracy Score\" as the key metric to compare different model performance.\n",
    "\n",
    "\n",
    "\n",
    "- Final summary including recommendations that the business should undertake    \n",
    "    - Collect more data and features such as price and time to make a recipe, more importantly, collect data more correctly.\n",
    "    - Besides building learning models, conducting A/B testing to check if some features, for example picture of the food or website structure, have influence on the site traffic is a proper tactic.\n",
    "    \n",
    "        "
   ]
  },
  {
   "cell_type": "markdown",
   "id": "4a74d6a0-4a35-484a-95f2-4ae50939c10f",
   "metadata": {
    "executionTime": 12,
    "lastSuccessfullyExecutedCode": "# Start coding here..."
   },
   "source": [
    "# Importing Modules"
   ]
  },
  {
   "cell_type": "code",
   "execution_count": 1,
   "id": "e255ab9b-9ee4-4e7e-8d9c-36e00a09e905",
   "metadata": {},
   "outputs": [],
   "source": [
    "import pandas as pd\n",
    "import numpy as np\n",
    "import matplotlib.pyplot as plt\n",
    "import seaborn as sns\n",
    "\n",
    "sns.set_style('white')\n",
    "sns.set_palette(\"Set2\")\n",
    "color = '#4AC3A4'"
   ]
  },
  {
   "cell_type": "markdown",
   "id": "a63e3b9d-9482-4ba1-b9db-55db33ea09f9",
   "metadata": {
    "tags": []
   },
   "source": [
    "# Examining the Data"
   ]
  },
  {
   "cell_type": "code",
   "execution_count": 2,
   "id": "f52d237d-7f04-429e-a50f-1e419b874c9a",
   "metadata": {},
   "outputs": [],
   "source": [
    "raw_data = pd.read_csv(\"Data/recipe_site_traffic_2212.csv\")\n",
    "df = raw_data.copy()"
   ]
  },
  {
   "cell_type": "code",
   "execution_count": 3,
   "id": "c0151b4e-cf4d-42a7-9325-4cfddda7fc6a",
   "metadata": {},
   "outputs": [
    {
     "data": {
      "text/html": [
       "<div>\n",
       "<style scoped>\n",
       "    .dataframe tbody tr th:only-of-type {\n",
       "        vertical-align: middle;\n",
       "    }\n",
       "\n",
       "    .dataframe tbody tr th {\n",
       "        vertical-align: top;\n",
       "    }\n",
       "\n",
       "    .dataframe thead th {\n",
       "        text-align: right;\n",
       "    }\n",
       "</style>\n",
       "<table border=\"1\" class=\"dataframe\">\n",
       "  <thead>\n",
       "    <tr style=\"text-align: right;\">\n",
       "      <th></th>\n",
       "      <th>recipe</th>\n",
       "      <th>calories</th>\n",
       "      <th>carbohydrate</th>\n",
       "      <th>sugar</th>\n",
       "      <th>protein</th>\n",
       "      <th>category</th>\n",
       "      <th>servings</th>\n",
       "      <th>high_traffic</th>\n",
       "    </tr>\n",
       "  </thead>\n",
       "  <tbody>\n",
       "    <tr>\n",
       "      <th>0</th>\n",
       "      <td>1</td>\n",
       "      <td>NaN</td>\n",
       "      <td>NaN</td>\n",
       "      <td>NaN</td>\n",
       "      <td>NaN</td>\n",
       "      <td>Pork</td>\n",
       "      <td>6</td>\n",
       "      <td>High</td>\n",
       "    </tr>\n",
       "    <tr>\n",
       "      <th>1</th>\n",
       "      <td>2</td>\n",
       "      <td>35.48</td>\n",
       "      <td>38.56</td>\n",
       "      <td>0.66</td>\n",
       "      <td>0.92</td>\n",
       "      <td>Potato</td>\n",
       "      <td>4</td>\n",
       "      <td>High</td>\n",
       "    </tr>\n",
       "    <tr>\n",
       "      <th>2</th>\n",
       "      <td>3</td>\n",
       "      <td>914.28</td>\n",
       "      <td>42.68</td>\n",
       "      <td>3.09</td>\n",
       "      <td>2.88</td>\n",
       "      <td>Breakfast</td>\n",
       "      <td>1</td>\n",
       "      <td>NaN</td>\n",
       "    </tr>\n",
       "    <tr>\n",
       "      <th>3</th>\n",
       "      <td>4</td>\n",
       "      <td>97.03</td>\n",
       "      <td>30.56</td>\n",
       "      <td>38.63</td>\n",
       "      <td>0.02</td>\n",
       "      <td>Beverages</td>\n",
       "      <td>4</td>\n",
       "      <td>High</td>\n",
       "    </tr>\n",
       "    <tr>\n",
       "      <th>4</th>\n",
       "      <td>5</td>\n",
       "      <td>27.05</td>\n",
       "      <td>1.85</td>\n",
       "      <td>0.80</td>\n",
       "      <td>0.53</td>\n",
       "      <td>Beverages</td>\n",
       "      <td>4</td>\n",
       "      <td>NaN</td>\n",
       "    </tr>\n",
       "  </tbody>\n",
       "</table>\n",
       "</div>"
      ],
      "text/plain": [
       "   recipe  calories  carbohydrate  sugar  protein   category servings  \\\n",
       "0       1       NaN           NaN    NaN      NaN       Pork        6   \n",
       "1       2     35.48         38.56   0.66     0.92     Potato        4   \n",
       "2       3    914.28         42.68   3.09     2.88  Breakfast        1   \n",
       "3       4     97.03         30.56  38.63     0.02  Beverages        4   \n",
       "4       5     27.05          1.85   0.80     0.53  Beverages        4   \n",
       "\n",
       "  high_traffic  \n",
       "0         High  \n",
       "1         High  \n",
       "2          NaN  \n",
       "3         High  \n",
       "4          NaN  "
      ]
     },
     "execution_count": 3,
     "metadata": {},
     "output_type": "execute_result"
    }
   ],
   "source": [
    "df.head()"
   ]
  },
  {
   "cell_type": "code",
   "execution_count": 4,
   "id": "4f9293a1-b7da-4202-8515-21e454ce2796",
   "metadata": {},
   "outputs": [
    {
     "name": "stdout",
     "output_type": "stream",
     "text": [
      ">>Shape of the data: \n",
      "\t Entries: 947 \n",
      "\t Columns: 8\n"
     ]
    }
   ],
   "source": [
    "print(f\">>Shape of the data: \\n\\t Entries: {df.shape[0]} \\n\\t Columns: {df.shape[1]}\")\n"
   ]
  },
  {
   "cell_type": "code",
   "execution_count": 5,
   "id": "56cbb670-6292-4ba3-969e-02d9083ee9c6",
   "metadata": {},
   "outputs": [
    {
     "data": {
      "text/html": [
       "<div>\n",
       "<style scoped>\n",
       "    .dataframe tbody tr th:only-of-type {\n",
       "        vertical-align: middle;\n",
       "    }\n",
       "\n",
       "    .dataframe tbody tr th {\n",
       "        vertical-align: top;\n",
       "    }\n",
       "\n",
       "    .dataframe thead th {\n",
       "        text-align: right;\n",
       "    }\n",
       "</style>\n",
       "<table border=\"1\" class=\"dataframe\">\n",
       "  <thead>\n",
       "    <tr style=\"text-align: right;\">\n",
       "      <th></th>\n",
       "      <th>recipe</th>\n",
       "      <th>calories</th>\n",
       "      <th>carbohydrate</th>\n",
       "      <th>sugar</th>\n",
       "      <th>protein</th>\n",
       "    </tr>\n",
       "  </thead>\n",
       "  <tbody>\n",
       "    <tr>\n",
       "      <th>count</th>\n",
       "      <td>947.000000</td>\n",
       "      <td>895.000000</td>\n",
       "      <td>895.000000</td>\n",
       "      <td>895.000000</td>\n",
       "      <td>895.000000</td>\n",
       "    </tr>\n",
       "    <tr>\n",
       "      <th>mean</th>\n",
       "      <td>474.000000</td>\n",
       "      <td>435.939196</td>\n",
       "      <td>35.069676</td>\n",
       "      <td>9.046547</td>\n",
       "      <td>24.149296</td>\n",
       "    </tr>\n",
       "    <tr>\n",
       "      <th>std</th>\n",
       "      <td>273.519652</td>\n",
       "      <td>453.020997</td>\n",
       "      <td>43.949032</td>\n",
       "      <td>14.679176</td>\n",
       "      <td>36.369739</td>\n",
       "    </tr>\n",
       "    <tr>\n",
       "      <th>min</th>\n",
       "      <td>1.000000</td>\n",
       "      <td>0.140000</td>\n",
       "      <td>0.030000</td>\n",
       "      <td>0.010000</td>\n",
       "      <td>0.000000</td>\n",
       "    </tr>\n",
       "    <tr>\n",
       "      <th>25%</th>\n",
       "      <td>237.500000</td>\n",
       "      <td>110.430000</td>\n",
       "      <td>8.375000</td>\n",
       "      <td>1.690000</td>\n",
       "      <td>3.195000</td>\n",
       "    </tr>\n",
       "    <tr>\n",
       "      <th>50%</th>\n",
       "      <td>474.000000</td>\n",
       "      <td>288.550000</td>\n",
       "      <td>21.480000</td>\n",
       "      <td>4.550000</td>\n",
       "      <td>10.800000</td>\n",
       "    </tr>\n",
       "    <tr>\n",
       "      <th>75%</th>\n",
       "      <td>710.500000</td>\n",
       "      <td>597.650000</td>\n",
       "      <td>44.965000</td>\n",
       "      <td>9.800000</td>\n",
       "      <td>30.200000</td>\n",
       "    </tr>\n",
       "    <tr>\n",
       "      <th>max</th>\n",
       "      <td>947.000000</td>\n",
       "      <td>3633.160000</td>\n",
       "      <td>530.420000</td>\n",
       "      <td>148.750000</td>\n",
       "      <td>363.360000</td>\n",
       "    </tr>\n",
       "  </tbody>\n",
       "</table>\n",
       "</div>"
      ],
      "text/plain": [
       "           recipe     calories  carbohydrate       sugar     protein\n",
       "count  947.000000   895.000000    895.000000  895.000000  895.000000\n",
       "mean   474.000000   435.939196     35.069676    9.046547   24.149296\n",
       "std    273.519652   453.020997     43.949032   14.679176   36.369739\n",
       "min      1.000000     0.140000      0.030000    0.010000    0.000000\n",
       "25%    237.500000   110.430000      8.375000    1.690000    3.195000\n",
       "50%    474.000000   288.550000     21.480000    4.550000   10.800000\n",
       "75%    710.500000   597.650000     44.965000    9.800000   30.200000\n",
       "max    947.000000  3633.160000    530.420000  148.750000  363.360000"
      ]
     },
     "execution_count": 5,
     "metadata": {},
     "output_type": "execute_result"
    }
   ],
   "source": [
    "df.describe()"
   ]
  },
  {
   "cell_type": "code",
   "execution_count": 6,
   "id": "70e467ae-1b0b-4eca-b627-f5d74a25763c",
   "metadata": {},
   "outputs": [
    {
     "name": "stdout",
     "output_type": "stream",
     "text": [
      "<class 'pandas.core.frame.DataFrame'>\n",
      "RangeIndex: 947 entries, 0 to 946\n",
      "Data columns (total 8 columns):\n",
      " #   Column        Non-Null Count  Dtype  \n",
      "---  ------        --------------  -----  \n",
      " 0   recipe        947 non-null    int64  \n",
      " 1   calories      895 non-null    float64\n",
      " 2   carbohydrate  895 non-null    float64\n",
      " 3   sugar         895 non-null    float64\n",
      " 4   protein       895 non-null    float64\n",
      " 5   category      947 non-null    object \n",
      " 6   servings      947 non-null    object \n",
      " 7   high_traffic  574 non-null    object \n",
      "dtypes: float64(4), int64(1), object(3)\n",
      "memory usage: 59.3+ KB\n"
     ]
    }
   ],
   "source": [
    "df.info()"
   ]
  },
  {
   "cell_type": "code",
   "execution_count": 7,
   "id": "6a0051c8-830f-4cfd-bb1f-1e2a143efc2b",
   "metadata": {},
   "outputs": [
    {
     "name": "stdout",
     "output_type": "stream",
     "text": [
      ">>Number of unique values in each column:\n"
     ]
    },
    {
     "data": {
      "text/plain": [
       "recipe          947\n",
       "calories        891\n",
       "carbohydrate    835\n",
       "sugar           666\n",
       "protein         772\n",
       "category         11\n",
       "servings          6\n",
       "high_traffic      1\n",
       "dtype: int64"
      ]
     },
     "metadata": {},
     "output_type": "display_data"
    },
    {
     "name": "stdout",
     "output_type": "stream",
     "text": [
      "\n",
      ">>Unique values in each column:\n"
     ]
    },
    {
     "data": {
      "text/plain": [
       "recipe          [1, 2, 3, 4, 5, 6, 7, 8, 9, 10, 11, 12, 13, 14...\n",
       "calories        [nan, 35.48, 914.28, 97.03, 27.05, 691.15, 183...\n",
       "carbohydrate    [nan, 38.56, 42.68, 30.56, 1.85, 3.46, 47.95, ...\n",
       "sugar           [nan, 0.66, 3.09, 38.63, 0.8, 1.65, 9.75, 0.4,...\n",
       "protein         [nan, 0.92, 2.88, 0.02, 0.53, 53.93, 46.71, 32...\n",
       "category        [Pork, Potato, Breakfast, Beverages, One Dish ...\n",
       "servings                 [6, 4, 1, 2, 4 as a snack, 6 as a snack]\n",
       "high_traffic                                          [High, nan]\n",
       "dtype: object"
      ]
     },
     "metadata": {},
     "output_type": "display_data"
    }
   ],
   "source": [
    "print(\">>Number of unique values in each column:\")\n",
    "display(df.nunique())\n",
    "print(\"\\n>>Unique values in each column:\")\n",
    "display(df.apply(pd.unique))\n"
   ]
  },
  {
   "cell_type": "markdown",
   "id": "fbba8fa7-b81d-44e0-a452-33d7ac25e5c9",
   "metadata": {},
   "source": [
    "- 'category', 'servings', and 'high_traffic' columns contain small number of unique values."
   ]
  },
  {
   "cell_type": "code",
   "execution_count": 8,
   "id": "0db05725-0a6d-469b-a32c-7ca1e90efb60",
   "metadata": {},
   "outputs": [
    {
     "name": "stdout",
     "output_type": "stream",
     "text": [
      ">>Number of missing values per column: \n"
     ]
    },
    {
     "data": {
      "text/plain": [
       "recipe            0\n",
       "calories         52\n",
       "carbohydrate     52\n",
       "sugar            52\n",
       "protein          52\n",
       "category          0\n",
       "servings          0\n",
       "high_traffic    373\n",
       "dtype: int64"
      ]
     },
     "metadata": {},
     "output_type": "display_data"
    },
    {
     "name": "stdout",
     "output_type": "stream",
     "text": [
      "\n",
      ">>Percentage of missing values per column: \n"
     ]
    },
    {
     "data": {
      "text/plain": [
       "recipe           0.000000\n",
       "calories         5.491024\n",
       "carbohydrate     5.491024\n",
       "sugar            5.491024\n",
       "protein          5.491024\n",
       "category         0.000000\n",
       "servings         0.000000\n",
       "high_traffic    39.387540\n",
       "dtype: float64"
      ]
     },
     "execution_count": 8,
     "metadata": {},
     "output_type": "execute_result"
    }
   ],
   "source": [
    "# Percentage of missing values in each column\n",
    "print(\">>Number of missing values per column: \")\n",
    "display(df.isna().sum() )\n",
    "print(\"\\n>>Percentage of missing values per column: \")\n",
    "df.isna().sum() * 100 / len(df)\n"
   ]
  },
  {
   "cell_type": "markdown",
   "id": "77c8f5ff-0b7d-4592-9a0b-c68cec4818f4",
   "metadata": {},
   "source": [
    "- Most of the missing values come from numerical variables like 'calories', 'carbohydrate', 'sugar', and 'protein', accounting for 5.5% of all data.\n",
    "- Missing values in 'high_traffic' column simply mean 'Low' traffic since the column was collected only when the site traffic was 'High'."
   ]
  },
  {
   "cell_type": "code",
   "execution_count": 9,
   "id": "60003da6-b7b8-41e3-af40-82db810e1a3d",
   "metadata": {},
   "outputs": [
    {
     "data": {
      "text/html": [
       "<div>\n",
       "<style scoped>\n",
       "    .dataframe tbody tr th:only-of-type {\n",
       "        vertical-align: middle;\n",
       "    }\n",
       "\n",
       "    .dataframe tbody tr th {\n",
       "        vertical-align: top;\n",
       "    }\n",
       "\n",
       "    .dataframe thead th {\n",
       "        text-align: right;\n",
       "    }\n",
       "</style>\n",
       "<table border=\"1\" class=\"dataframe\">\n",
       "  <thead>\n",
       "    <tr style=\"text-align: right;\">\n",
       "      <th></th>\n",
       "      <th>recipe</th>\n",
       "      <th>calories</th>\n",
       "      <th>carbohydrate</th>\n",
       "      <th>sugar</th>\n",
       "      <th>protein</th>\n",
       "      <th>category</th>\n",
       "      <th>servings</th>\n",
       "      <th>high_traffic</th>\n",
       "    </tr>\n",
       "  </thead>\n",
       "  <tbody>\n",
       "  </tbody>\n",
       "</table>\n",
       "</div>"
      ],
      "text/plain": [
       "Empty DataFrame\n",
       "Columns: [recipe, calories, carbohydrate, sugar, protein, category, servings, high_traffic]\n",
       "Index: []"
      ]
     },
     "execution_count": 9,
     "metadata": {},
     "output_type": "execute_result"
    }
   ],
   "source": [
    "# Check duplicates\n",
    "df.loc[df.duplicated()]"
   ]
  },
  {
   "cell_type": "markdown",
   "id": "1ff84879-392f-445e-a0f5-6a3866477690",
   "metadata": {},
   "source": [
    "- There are no duplicated rows."
   ]
  },
  {
   "cell_type": "markdown",
   "id": "a6ccabd1-1213-47e7-9c64-003ff9bec3b7",
   "metadata": {
    "tags": []
   },
   "source": [
    "# Cleaning the Data"
   ]
  },
  {
   "cell_type": "code",
   "execution_count": 10,
   "id": "4c2d5df8-27de-4a60-8c55-282259afadc2",
   "metadata": {},
   "outputs": [],
   "source": [
    "# Drop 'recipe' column\n",
    "df.drop('recipe', axis=1, inplace=True)"
   ]
  },
  {
   "cell_type": "code",
   "execution_count": 11,
   "id": "e2c82c34-1dfb-4ab9-9960-b3f756662ee0",
   "metadata": {},
   "outputs": [],
   "source": [
    "#Replace NaN values in 'high_traffic' with \"Low\"\n",
    "df.high_traffic.fillna('Low', inplace=True)"
   ]
  },
  {
   "cell_type": "code",
   "execution_count": 12,
   "id": "b4b6a99d-d153-4d4d-a9ff-fe5d8f5c956b",
   "metadata": {},
   "outputs": [],
   "source": [
    "#Clean inconsistent data in 'servings' column and convert it into 'int' dtype\n",
    "df.servings = df.servings.str.replace(\"as a snack\", '').str.strip().astype('int')"
   ]
  },
  {
   "cell_type": "markdown",
   "id": "cb2699c2-5c2a-43fc-9ca7-4d82f4aaefb5",
   "metadata": {
    "tags": []
   },
   "source": [
    "# Exploring the Data"
   ]
  },
  {
   "cell_type": "code",
   "execution_count": 13,
   "id": "0af8d662-2ae3-4a65-865b-e88e73404e05",
   "metadata": {},
   "outputs": [],
   "source": [
    "# Function displaying horizontal barplot\n",
    "def display_barh(x, y, xlabel, ylabel, title, color=color):\n",
    "    plt.figure(figsize=(8,5))\n",
    "    plt.barh(x, y, color=color)\n",
    "    plt.xlabel(xlabel)\n",
    "    plt.ylabel(ylabel)\n",
    "    plt.title(title, fontweight='bold', fontsize=15)    \n",
    "    plt.gca().spines[['top', 'right']].set_visible(False)\n",
    "       "
   ]
  },
  {
   "cell_type": "code",
   "execution_count": 14,
   "id": "d121f5e3-16ce-4cce-904e-a490326d4196",
   "metadata": {},
   "outputs": [],
   "source": [
    "# Function displaying horizontal barplot in Axes object\n",
    "def display_ax_barh(axes, x, y, xlabel, ylabel, title, color=color):\n",
    "    axes.barh(x, y, color=color)\n",
    "    axes.set_xlabel(xlabel)\n",
    "    axes.set_ylabel(ylabel)\n",
    "    axes.set_title(title)\n",
    "    axes.spines[['top', 'right']].set_visible(False)\n"
   ]
  },
  {
   "cell_type": "markdown",
   "id": "560b64b2-1a20-46bc-b7c1-3ba344ab6504",
   "metadata": {
    "tags": []
   },
   "source": [
    "## Distribution of 'calories', 'carbohydrate', 'sugar', and 'protein'"
   ]
  },
  {
   "cell_type": "code",
   "execution_count": 15,
   "id": "dca5a8a1-3595-43b8-b8f8-3121dba1a00e",
   "metadata": {},
   "outputs": [],
   "source": [
    "# df.melt(id_vars=['category'], value_vars=['calories', 'carbohydrate', 'sugar', 'protein'], var_name='nutrition', value_name='amount')\n"
   ]
  },
  {
   "cell_type": "code",
   "execution_count": 16,
   "id": "a3a10cc1-811d-4b0e-a28b-7dc235448037",
   "metadata": {},
   "outputs": [
    {
     "data": {
      "image/png": "[encoded data removed]",
      "text/plain": [
       "<Figure size 720x576 with 8 Axes>"
      ]
     },
     "metadata": {},
     "output_type": "display_data"
    }
   ],
   "source": [
    "num_cols = ['calories', 'carbohydrate', 'sugar', 'protein']\n",
    "fig, ax = plt.subplots(2, 4, figsize=(10,8))\n",
    "for i, nut in enumerate(num_cols):\n",
    "    ax[0, i].hist(df[nut], bins=20, color=color)\n",
    "    ax[0, i].set_ itle(nut.title())\n",
    "    ax[0, i].spines[['top', 'right']].set_visible(False)\n",
    "    \n",
    "for i, nut in enumerate(num_cols):\n",
    "    sns.boxplot(y=df[nut], ax=ax[1, i], color=color)\n",
    "    ax[1, i].spines[['top', 'right']].set_visible(False)\n",
    "\n",
    "fig.suptitle(\"(1) Distributions of Numerical Variables\", fontweight='bold', fontsize=15)\n",
    "plt.show()"
   ]
  },
  {
   "cell_type": "markdown",
   "id": "91690c9b-e9de-40b7-9b3d-2db997d07079",
   "metadata": {
    "tags": []
   },
   "source": [
    "## How many recipes are there from each category?"
   ]
  },
  {
   "cell_type": "code",
   "execution_count": 17,
   "id": "514ead53-54ba-4894-ba23-a1677685b30f",
   "metadata": {},
   "outputs": [
    {
     "data": {
      "image/png": "[encoded data removed]",
      "text/plain": [
       "<Figure size 576x360 with 1 Axes>"
      ]
     },
     "metadata": {},
     "output_type": "display_data"
    }
   ],
   "source": [
    "rep_by_cat = df.groupby('category').size().sort_values(ascending=False)\n",
    "display_barh(rep_by_cat.index, rep_by_cat, 'Count','Category', '(2) Number of Recipes by Category')\n",
    "per_rep_by_cat = round(rep_by_cat / rep_by_cat.sum() * 100, 1)\n",
    "plt.text(rep_by_cat[0], 0, str(rep_by_cat[0]) , color='red', fontweight='bold')\n",
    "for i, val in enumerate(rep_by_cat):\n",
    "    plt.text(30, i-0.2, str(per_rep_by_cat[i]) + \"%\" , color='red', fontweight='bold')\n",
    "\n",
    "plt.show()"
   ]
  },
  {
   "cell_type": "markdown",
   "id": "f33182a6-34c0-4a4c-909c-7a761b54ff34",
   "metadata": {
    "tags": []
   },
   "source": [
    "## Number of recipes by site traffic"
   ]
  },
  {
   "cell_type": "code",
   "execution_count": 18,
   "id": "9bc3aa87-1b3f-4085-b530-7f6dec550c43",
   "metadata": {},
   "outputs": [
    {
     "data": {
      "image/png": "[encoded data removed]",
      "text/plain": [
       "<Figure size 576x360 with 1 Axes>"
      ]
     },
     "metadata": {},
     "output_type": "display_data"
    }
   ],
   "source": [
    "rep_by_traffic = df.groupby('high_traffic').size().sort_values(ascending=False)\n",
    "display_barh(rep_by_traffic.index, rep_by_traffic, 'Count', 'Site traffic', '(3) Number of Recipes by Site Traffic')\n",
    "\n",
    "percentage_rep_by_traffic = round(rep_by_traffic / rep_by_traffic.sum() * 100, 1)\n",
    "for i, val_per in enumerate(zip(rep_by_traffic, percentage_rep_by_traffic)):\n",
    "    val, percent =val_per\n",
    "    plt.text(val, i, str(val) , color='red', fontsize=20)\n",
    "    plt.text(val/2.5, i, str(percent) + '%', color='red', fontweight='bold', fontsize=20)\n",
    "\n"
   ]
  },
  {
   "cell_type": "code",
   "execution_count": 19,
   "id": "641bdc4f-d907-466b-9e67-02c350de2b56",
   "metadata": {},
   "outputs": [
    {
     "data": {
      "image/png": "[encoded data removed]",
      "text/plain": [
       "<Figure size 576x360 with 1 Axes>"
      ]
     },
     "metadata": {},
     "output_type": "display_data"
    }
   ],
   "source": [
    "rep_by_traffic = df.groupby('high_traffic').size().sort_values(ascending=False)\n",
    "display_barh(rep_by_traffic.index, rep_by_traffic, 'Count', 'Site traffic', 'Number of Recipes by Site Traffic')\n",
    "\n",
    "percentage_rep_by_traffic = round(rep_by_traffic / rep_by_traffic.sum() * 100, 1)\n",
    "for i, val_per in enumerate(zip(rep_by_traffic, percentage_rep_by_traffic)):\n",
    "    val, percent =val_per\n",
    "    plt.text(val, i, str(val) , color='red', fontsize=20)\n",
    "    plt.text(val/2.5, i, str(percent) + '%', color='red', fontweight='bold', fontsize=20)\n",
    "    \n",
    "plt.savefig(\"target.png\", bbox_inches='tight')"
   ]
  },
  {
   "cell_type": "markdown",
   "id": "3eaacc42-291d-44a4-a538-0bf397e17eaa",
   "metadata": {
    "tags": []
   },
   "source": [
    "## What is the average amount of each nutrient and calories from each category?"
   ]
  },
  {
   "cell_type": "code",
   "execution_count": 20,
   "id": "b9498197-7a7b-4d82-8bab-5454431ad8ec",
   "metadata": {},
   "outputs": [
    {
     "data": {
      "image/png": "[encoded data removed]",
      "text/plain": [
       "<Figure size 1080x720 with 4 Axes>"
      ]
     },
     "metadata": {},
     "output_type": "display_data"
    }
   ],
   "source": [
    "ave_nutrient = df.groupby(\"category\")[['calories', 'carbohydrate', 'sugar', 'protein']].mean()\n",
    "fig, ax = plt.subplots(2, 2, figsize=(15, 10), constrained_layout=True)\n",
    "\n",
    "for i, col in enumerate(ave_nutrient.columns):\n",
    "    ave_nut = ave_nutrient[col].sort_values(ascending=False)\n",
    "    r, c = i // 2, i % 2\n",
    "    display_ax_barh(ax[r,c], ave_nut.index, ave_nut, 'Amount', 'Categories', f'Average Amount of {col.title()}')\n",
    "    ax[r, c].text(ave_nut[0], -0.15, f\"{ave_nut[0]:.0f}\", color='red', fontweight='bold', fontsize=13) \n",
    "        \n",
    "    \n",
    "fig.suptitle(\"(4) Averge Amount of each Nutrition by Category\", fontweight='bold', fontsize=20, y=1.05)\n",
    "plt.show()"
   ]
  },
  {
   "cell_type": "markdown",
   "id": "6b33e018-d115-4acd-abcd-d4c0b5fe1dfe",
   "metadata": {
    "tags": []
   },
   "source": [
    "## What is the difference in site traffic between categories?"
   ]
  },
  {
   "cell_type": "code",
   "execution_count": 21,
   "id": "0e0d907a-33d4-4131-928f-8c505f671512",
   "metadata": {},
   "outputs": [
    {
     "data": {
      "image/png": "[encoded data removed]",
      "text/plain": [
       "<Figure size 864x576 with 1 Axes>"
      ]
     },
     "metadata": {},
     "output_type": "display_data"
    }
   ],
   "source": [
    "traffic_by_cat = pd.pivot_table(df, index='category', columns='high_traffic', values='servings' , aggfunc='count', fill_value=0)\n",
    "traffic_by_cat.plot(kind='bar', stacked=True, figsize=(12,8))\n",
    "plt.legend(loc=0)\n",
    "plt.xlabel(\"Categories\", fontsize=20)\n",
    "plt.ylabel(\"Count\", fontsize=20)\n",
    "plt.title(\"(5) Number of High and Low Traffic by Category\", fontweight='bold', fontsize=15)\n",
    "plt.tick_params('x', rotation=45)\n",
    "plt.gca().spines[['top', 'right']].set_visible(False)\n",
    "plt.show()"
   ]
  },
  {
   "cell_type": "markdown",
   "id": "643ebd9d-8be2-4029-9c1f-cf2c038f4bc7",
   "metadata": {
    "tags": []
   },
   "source": [
    "## Which category has the largest total number of servings?"
   ]
  },
  {
   "cell_type": "code",
   "execution_count": 22,
   "id": "dc008dc9-ed75-4d0e-92cd-bdbab6cbd8fa",
   "metadata": {},
   "outputs": [
    {
     "data": {
      "text/plain": [
       "high_traffic\n",
       "High    248007.38\n",
       "Low     142158.20\n",
       "Name: calories, dtype: float64"
      ]
     },
     "execution_count": 22,
     "metadata": {},
     "output_type": "execute_result"
    }
   ],
   "source": [
    "df.groupby('high_traffic').calories.sum()"
   ]
  },
  {
   "cell_type": "code",
   "execution_count": 23,
   "id": "77b8ffe9-3424-4e5a-9365-063e4ee33994",
   "metadata": {},
   "outputs": [
    {
     "data": {
      "text/plain": [
       "Text(344, -0.3, '342')"
      ]
     },
     "execution_count": 23,
     "metadata": {},
     "output_type": "execute_result"
    },
    {
     "data": {
      "image/png": "[encoded data removed]",
      "text/plain": [
       "<Figure size 576x360 with 1 Axes>"
      ]
     },
     "metadata": {},
     "output_type": "display_data"
    }
   ],
   "source": [
    "servings_by_cat = df.groupby(\"category\").servings.sum().sort_values(ascending=False)\n",
    "display_barh(servings_by_cat.index, servings_by_cat, \"Number of servings\", \"Catgory\", \"(6) Total Number of Servings by Category\")\n",
    "\n",
    "plt.text(servings_by_cat[0] + 2, -0.3, str(servings_by_cat[0]), color='red', fontweight='bold', fontsize=15)"
   ]
  },
  {
   "cell_type": "markdown",
   "id": "30714abe-6c95-49a6-b602-a135b743a302",
   "metadata": {
    "tags": []
   },
   "source": [
    "## Is there any relationship between nutrients (carbohydrate, sugar, protein) with each other, and with calories?\n",
    "\n",
    "Looks like there is no relationship between those numerical variables."
   ]
  },
  {
   "cell_type": "code",
   "execution_count": 24,
   "id": "ba02b901-68e2-4eac-9b87-5afbbf03fd9c",
   "metadata": {},
   "outputs": [
    {
     "data": {
      "image/png": "[encoded data removed]",
      "text/plain": [
       "<Figure size 432x288 with 1 Axes>"
      ]
     },
     "metadata": {},
     "output_type": "display_data"
    }
   ],
   "source": [
    "num_cols = ['calories', 'carbohydrate', 'sugar', 'protein']\n",
    "\n",
    "df_corr = df[num_cols].corr()\n",
    "mask_triu_map = np.triu(np.ones_like(df_corr, dtype=bool))\n",
    "cmap = sns.diverging_palette(20, 145, as_cmap=True)\n",
    "sns.heatmap(df_corr, mask=mask_triu_map, vmin=-1, vmax=1, cmap=cmap, annot=True, cbar=False, linewidth=1)\n",
    "plt.title(\"(7.1) Variables Correlation\", fontweight='bold', fontsize=15)\n",
    "plt.show()"
   ]
  },
  {
   "cell_type": "code",
   "execution_count": 25,
   "id": "1691082e-7840-4d01-b8e6-94fb408f17ad",
   "metadata": {},
   "outputs": [
    {
     "data": {
      "image/png": "[encoded data removed]",
      "text/plain": [
       "<Figure size 720x720 with 14 Axes>"
      ]
     },
     "metadata": {},
     "output_type": "display_data"
    }
   ],
   "source": [
    "g = sns.pairplot(df[num_cols], corner=True)\n",
    "g.fig.suptitle(\"(7.2) Variables Correlation\", fontweight='bold', fontsize=15)\n",
    "plt.show()"
   ]
  },
  {
   "cell_type": "markdown",
   "id": "d2575481-591d-4ce2-b682-7de3c633d711",
   "metadata": {
    "tags": []
   },
   "source": [
    "\n",
    "# Data Preprocessing\n",
    "\n",
    "- Deal with missing values\n",
    "- Check outliers\n",
    "- Create new features\n",
    "- Get dummy variables\n",
    "- Scale features"
   ]
  },
  {
   "cell_type": "markdown",
   "id": "9c82e84c-088f-40e2-b7f3-10cf9936cff9",
   "metadata": {
    "tags": []
   },
   "source": [
    "## Dealing with missing values"
   ]
  },
  {
   "cell_type": "code",
   "execution_count": 26,
   "id": "4d396019-50d3-422b-8103-49dd5c04740b",
   "metadata": {},
   "outputs": [
    {
     "data": {
      "text/html": [
       "<div>\n",
       "<style scoped>\n",
       "    .dataframe tbody tr th:only-of-type {\n",
       "        vertical-align: middle;\n",
       "    }\n",
       "\n",
       "    .dataframe tbody tr th {\n",
       "        vertical-align: top;\n",
       "    }\n",
       "\n",
       "    .dataframe thead th {\n",
       "        text-align: right;\n",
       "    }\n",
       "</style>\n",
       "<table border=\"1\" class=\"dataframe\">\n",
       "  <thead>\n",
       "    <tr style=\"text-align: right;\">\n",
       "      <th></th>\n",
       "      <th>calories</th>\n",
       "      <th>carbohydrate</th>\n",
       "      <th>sugar</th>\n",
       "      <th>protein</th>\n",
       "      <th>category</th>\n",
       "      <th>servings</th>\n",
       "      <th>high_traffic</th>\n",
       "    </tr>\n",
       "  </thead>\n",
       "  <tbody>\n",
       "    <tr>\n",
       "      <th>0</th>\n",
       "      <td>NaN</td>\n",
       "      <td>NaN</td>\n",
       "      <td>NaN</td>\n",
       "      <td>NaN</td>\n",
       "      <td>Pork</td>\n",
       "      <td>6</td>\n",
       "      <td>High</td>\n",
       "    </tr>\n",
       "    <tr>\n",
       "      <th>23</th>\n",
       "      <td>NaN</td>\n",
       "      <td>NaN</td>\n",
       "      <td>NaN</td>\n",
       "      <td>NaN</td>\n",
       "      <td>Meat</td>\n",
       "      <td>2</td>\n",
       "      <td>Low</td>\n",
       "    </tr>\n",
       "    <tr>\n",
       "      <th>48</th>\n",
       "      <td>NaN</td>\n",
       "      <td>NaN</td>\n",
       "      <td>NaN</td>\n",
       "      <td>NaN</td>\n",
       "      <td>Chicken Breast</td>\n",
       "      <td>4</td>\n",
       "      <td>Low</td>\n",
       "    </tr>\n",
       "    <tr>\n",
       "      <th>82</th>\n",
       "      <td>NaN</td>\n",
       "      <td>NaN</td>\n",
       "      <td>NaN</td>\n",
       "      <td>NaN</td>\n",
       "      <td>Meat</td>\n",
       "      <td>4</td>\n",
       "      <td>High</td>\n",
       "    </tr>\n",
       "    <tr>\n",
       "      <th>89</th>\n",
       "      <td>NaN</td>\n",
       "      <td>NaN</td>\n",
       "      <td>NaN</td>\n",
       "      <td>NaN</td>\n",
       "      <td>Pork</td>\n",
       "      <td>6</td>\n",
       "      <td>High</td>\n",
       "    </tr>\n",
       "    <tr>\n",
       "      <th>116</th>\n",
       "      <td>NaN</td>\n",
       "      <td>NaN</td>\n",
       "      <td>NaN</td>\n",
       "      <td>NaN</td>\n",
       "      <td>Chicken Breast</td>\n",
       "      <td>6</td>\n",
       "      <td>High</td>\n",
       "    </tr>\n",
       "    <tr>\n",
       "      <th>121</th>\n",
       "      <td>NaN</td>\n",
       "      <td>NaN</td>\n",
       "      <td>NaN</td>\n",
       "      <td>NaN</td>\n",
       "      <td>Dessert</td>\n",
       "      <td>2</td>\n",
       "      <td>High</td>\n",
       "    </tr>\n",
       "    <tr>\n",
       "      <th>136</th>\n",
       "      <td>NaN</td>\n",
       "      <td>NaN</td>\n",
       "      <td>NaN</td>\n",
       "      <td>NaN</td>\n",
       "      <td>One Dish Meal</td>\n",
       "      <td>2</td>\n",
       "      <td>High</td>\n",
       "    </tr>\n",
       "    <tr>\n",
       "      <th>149</th>\n",
       "      <td>NaN</td>\n",
       "      <td>NaN</td>\n",
       "      <td>NaN</td>\n",
       "      <td>NaN</td>\n",
       "      <td>Potato</td>\n",
       "      <td>2</td>\n",
       "      <td>High</td>\n",
       "    </tr>\n",
       "    <tr>\n",
       "      <th>187</th>\n",
       "      <td>NaN</td>\n",
       "      <td>NaN</td>\n",
       "      <td>NaN</td>\n",
       "      <td>NaN</td>\n",
       "      <td>Pork</td>\n",
       "      <td>4</td>\n",
       "      <td>High</td>\n",
       "    </tr>\n",
       "    <tr>\n",
       "      <th>209</th>\n",
       "      <td>NaN</td>\n",
       "      <td>NaN</td>\n",
       "      <td>NaN</td>\n",
       "      <td>NaN</td>\n",
       "      <td>Dessert</td>\n",
       "      <td>2</td>\n",
       "      <td>High</td>\n",
       "    </tr>\n",
       "    <tr>\n",
       "      <th>212</th>\n",
       "      <td>NaN</td>\n",
       "      <td>NaN</td>\n",
       "      <td>NaN</td>\n",
       "      <td>NaN</td>\n",
       "      <td>Dessert</td>\n",
       "      <td>4</td>\n",
       "      <td>High</td>\n",
       "    </tr>\n",
       "    <tr>\n",
       "      <th>221</th>\n",
       "      <td>NaN</td>\n",
       "      <td>NaN</td>\n",
       "      <td>NaN</td>\n",
       "      <td>NaN</td>\n",
       "      <td>Dessert</td>\n",
       "      <td>1</td>\n",
       "      <td>Low</td>\n",
       "    </tr>\n",
       "    <tr>\n",
       "      <th>249</th>\n",
       "      <td>NaN</td>\n",
       "      <td>NaN</td>\n",
       "      <td>NaN</td>\n",
       "      <td>NaN</td>\n",
       "      <td>Chicken</td>\n",
       "      <td>6</td>\n",
       "      <td>Low</td>\n",
       "    </tr>\n",
       "    <tr>\n",
       "      <th>262</th>\n",
       "      <td>NaN</td>\n",
       "      <td>NaN</td>\n",
       "      <td>NaN</td>\n",
       "      <td>NaN</td>\n",
       "      <td>Chicken</td>\n",
       "      <td>4</td>\n",
       "      <td>Low</td>\n",
       "    </tr>\n",
       "    <tr>\n",
       "      <th>278</th>\n",
       "      <td>NaN</td>\n",
       "      <td>NaN</td>\n",
       "      <td>NaN</td>\n",
       "      <td>NaN</td>\n",
       "      <td>Lunch/Snacks</td>\n",
       "      <td>4</td>\n",
       "      <td>High</td>\n",
       "    </tr>\n",
       "    <tr>\n",
       "      <th>280</th>\n",
       "      <td>NaN</td>\n",
       "      <td>NaN</td>\n",
       "      <td>NaN</td>\n",
       "      <td>NaN</td>\n",
       "      <td>Meat</td>\n",
       "      <td>1</td>\n",
       "      <td>High</td>\n",
       "    </tr>\n",
       "    <tr>\n",
       "      <th>297</th>\n",
       "      <td>NaN</td>\n",
       "      <td>NaN</td>\n",
       "      <td>NaN</td>\n",
       "      <td>NaN</td>\n",
       "      <td>Lunch/Snacks</td>\n",
       "      <td>6</td>\n",
       "      <td>Low</td>\n",
       "    </tr>\n",
       "    <tr>\n",
       "      <th>326</th>\n",
       "      <td>NaN</td>\n",
       "      <td>NaN</td>\n",
       "      <td>NaN</td>\n",
       "      <td>NaN</td>\n",
       "      <td>Potato</td>\n",
       "      <td>4</td>\n",
       "      <td>High</td>\n",
       "    </tr>\n",
       "    <tr>\n",
       "      <th>351</th>\n",
       "      <td>NaN</td>\n",
       "      <td>NaN</td>\n",
       "      <td>NaN</td>\n",
       "      <td>NaN</td>\n",
       "      <td>Potato</td>\n",
       "      <td>4</td>\n",
       "      <td>High</td>\n",
       "    </tr>\n",
       "    <tr>\n",
       "      <th>354</th>\n",
       "      <td>NaN</td>\n",
       "      <td>NaN</td>\n",
       "      <td>NaN</td>\n",
       "      <td>NaN</td>\n",
       "      <td>Pork</td>\n",
       "      <td>4</td>\n",
       "      <td>High</td>\n",
       "    </tr>\n",
       "    <tr>\n",
       "      <th>372</th>\n",
       "      <td>NaN</td>\n",
       "      <td>NaN</td>\n",
       "      <td>NaN</td>\n",
       "      <td>NaN</td>\n",
       "      <td>Vegetable</td>\n",
       "      <td>2</td>\n",
       "      <td>High</td>\n",
       "    </tr>\n",
       "    <tr>\n",
       "      <th>376</th>\n",
       "      <td>NaN</td>\n",
       "      <td>NaN</td>\n",
       "      <td>NaN</td>\n",
       "      <td>NaN</td>\n",
       "      <td>Pork</td>\n",
       "      <td>6</td>\n",
       "      <td>High</td>\n",
       "    </tr>\n",
       "    <tr>\n",
       "      <th>388</th>\n",
       "      <td>NaN</td>\n",
       "      <td>NaN</td>\n",
       "      <td>NaN</td>\n",
       "      <td>NaN</td>\n",
       "      <td>Lunch/Snacks</td>\n",
       "      <td>4</td>\n",
       "      <td>High</td>\n",
       "    </tr>\n",
       "    <tr>\n",
       "      <th>405</th>\n",
       "      <td>NaN</td>\n",
       "      <td>NaN</td>\n",
       "      <td>NaN</td>\n",
       "      <td>NaN</td>\n",
       "      <td>Vegetable</td>\n",
       "      <td>4</td>\n",
       "      <td>High</td>\n",
       "    </tr>\n",
       "    <tr>\n",
       "      <th>427</th>\n",
       "      <td>NaN</td>\n",
       "      <td>NaN</td>\n",
       "      <td>NaN</td>\n",
       "      <td>NaN</td>\n",
       "      <td>Vegetable</td>\n",
       "      <td>4</td>\n",
       "      <td>High</td>\n",
       "    </tr>\n",
       "    <tr>\n",
       "      <th>455</th>\n",
       "      <td>NaN</td>\n",
       "      <td>NaN</td>\n",
       "      <td>NaN</td>\n",
       "      <td>NaN</td>\n",
       "      <td>Pork</td>\n",
       "      <td>6</td>\n",
       "      <td>High</td>\n",
       "    </tr>\n",
       "    <tr>\n",
       "      <th>530</th>\n",
       "      <td>NaN</td>\n",
       "      <td>NaN</td>\n",
       "      <td>NaN</td>\n",
       "      <td>NaN</td>\n",
       "      <td>Vegetable</td>\n",
       "      <td>1</td>\n",
       "      <td>High</td>\n",
       "    </tr>\n",
       "    <tr>\n",
       "      <th>534</th>\n",
       "      <td>NaN</td>\n",
       "      <td>NaN</td>\n",
       "      <td>NaN</td>\n",
       "      <td>NaN</td>\n",
       "      <td>Chicken</td>\n",
       "      <td>2</td>\n",
       "      <td>High</td>\n",
       "    </tr>\n",
       "    <tr>\n",
       "      <th>538</th>\n",
       "      <td>NaN</td>\n",
       "      <td>NaN</td>\n",
       "      <td>NaN</td>\n",
       "      <td>NaN</td>\n",
       "      <td>Vegetable</td>\n",
       "      <td>4</td>\n",
       "      <td>High</td>\n",
       "    </tr>\n",
       "    <tr>\n",
       "      <th>545</th>\n",
       "      <td>NaN</td>\n",
       "      <td>NaN</td>\n",
       "      <td>NaN</td>\n",
       "      <td>NaN</td>\n",
       "      <td>Chicken Breast</td>\n",
       "      <td>6</td>\n",
       "      <td>High</td>\n",
       "    </tr>\n",
       "    <tr>\n",
       "      <th>555</th>\n",
       "      <td>NaN</td>\n",
       "      <td>NaN</td>\n",
       "      <td>NaN</td>\n",
       "      <td>NaN</td>\n",
       "      <td>Meat</td>\n",
       "      <td>2</td>\n",
       "      <td>Low</td>\n",
       "    </tr>\n",
       "    <tr>\n",
       "      <th>573</th>\n",
       "      <td>NaN</td>\n",
       "      <td>NaN</td>\n",
       "      <td>NaN</td>\n",
       "      <td>NaN</td>\n",
       "      <td>Lunch/Snacks</td>\n",
       "      <td>4</td>\n",
       "      <td>Low</td>\n",
       "    </tr>\n",
       "    <tr>\n",
       "      <th>581</th>\n",
       "      <td>NaN</td>\n",
       "      <td>NaN</td>\n",
       "      <td>NaN</td>\n",
       "      <td>NaN</td>\n",
       "      <td>Chicken</td>\n",
       "      <td>1</td>\n",
       "      <td>Low</td>\n",
       "    </tr>\n",
       "    <tr>\n",
       "      <th>608</th>\n",
       "      <td>NaN</td>\n",
       "      <td>NaN</td>\n",
       "      <td>NaN</td>\n",
       "      <td>NaN</td>\n",
       "      <td>Chicken Breast</td>\n",
       "      <td>4</td>\n",
       "      <td>Low</td>\n",
       "    </tr>\n",
       "    <tr>\n",
       "      <th>674</th>\n",
       "      <td>NaN</td>\n",
       "      <td>NaN</td>\n",
       "      <td>NaN</td>\n",
       "      <td>NaN</td>\n",
       "      <td>Pork</td>\n",
       "      <td>4</td>\n",
       "      <td>High</td>\n",
       "    </tr>\n",
       "    <tr>\n",
       "      <th>683</th>\n",
       "      <td>NaN</td>\n",
       "      <td>NaN</td>\n",
       "      <td>NaN</td>\n",
       "      <td>NaN</td>\n",
       "      <td>Potato</td>\n",
       "      <td>1</td>\n",
       "      <td>High</td>\n",
       "    </tr>\n",
       "    <tr>\n",
       "      <th>711</th>\n",
       "      <td>NaN</td>\n",
       "      <td>NaN</td>\n",
       "      <td>NaN</td>\n",
       "      <td>NaN</td>\n",
       "      <td>Lunch/Snacks</td>\n",
       "      <td>4</td>\n",
       "      <td>High</td>\n",
       "    </tr>\n",
       "    <tr>\n",
       "      <th>712</th>\n",
       "      <td>NaN</td>\n",
       "      <td>NaN</td>\n",
       "      <td>NaN</td>\n",
       "      <td>NaN</td>\n",
       "      <td>Pork</td>\n",
       "      <td>6</td>\n",
       "      <td>High</td>\n",
       "    </tr>\n",
       "    <tr>\n",
       "      <th>749</th>\n",
       "      <td>NaN</td>\n",
       "      <td>NaN</td>\n",
       "      <td>NaN</td>\n",
       "      <td>NaN</td>\n",
       "      <td>Dessert</td>\n",
       "      <td>4</td>\n",
       "      <td>High</td>\n",
       "    </tr>\n",
       "    <tr>\n",
       "      <th>765</th>\n",
       "      <td>NaN</td>\n",
       "      <td>NaN</td>\n",
       "      <td>NaN</td>\n",
       "      <td>NaN</td>\n",
       "      <td>Pork</td>\n",
       "      <td>1</td>\n",
       "      <td>High</td>\n",
       "    </tr>\n",
       "    <tr>\n",
       "      <th>772</th>\n",
       "      <td>NaN</td>\n",
       "      <td>NaN</td>\n",
       "      <td>NaN</td>\n",
       "      <td>NaN</td>\n",
       "      <td>One Dish Meal</td>\n",
       "      <td>4</td>\n",
       "      <td>Low</td>\n",
       "    </tr>\n",
       "    <tr>\n",
       "      <th>851</th>\n",
       "      <td>NaN</td>\n",
       "      <td>NaN</td>\n",
       "      <td>NaN</td>\n",
       "      <td>NaN</td>\n",
       "      <td>Lunch/Snacks</td>\n",
       "      <td>4</td>\n",
       "      <td>High</td>\n",
       "    </tr>\n",
       "    <tr>\n",
       "      <th>859</th>\n",
       "      <td>NaN</td>\n",
       "      <td>NaN</td>\n",
       "      <td>NaN</td>\n",
       "      <td>NaN</td>\n",
       "      <td>One Dish Meal</td>\n",
       "      <td>4</td>\n",
       "      <td>Low</td>\n",
       "    </tr>\n",
       "    <tr>\n",
       "      <th>865</th>\n",
       "      <td>NaN</td>\n",
       "      <td>NaN</td>\n",
       "      <td>NaN</td>\n",
       "      <td>NaN</td>\n",
       "      <td>Lunch/Snacks</td>\n",
       "      <td>6</td>\n",
       "      <td>High</td>\n",
       "    </tr>\n",
       "    <tr>\n",
       "      <th>890</th>\n",
       "      <td>NaN</td>\n",
       "      <td>NaN</td>\n",
       "      <td>NaN</td>\n",
       "      <td>NaN</td>\n",
       "      <td>Meat</td>\n",
       "      <td>4</td>\n",
       "      <td>High</td>\n",
       "    </tr>\n",
       "    <tr>\n",
       "      <th>893</th>\n",
       "      <td>NaN</td>\n",
       "      <td>NaN</td>\n",
       "      <td>NaN</td>\n",
       "      <td>NaN</td>\n",
       "      <td>One Dish Meal</td>\n",
       "      <td>4</td>\n",
       "      <td>Low</td>\n",
       "    </tr>\n",
       "    <tr>\n",
       "      <th>896</th>\n",
       "      <td>NaN</td>\n",
       "      <td>NaN</td>\n",
       "      <td>NaN</td>\n",
       "      <td>NaN</td>\n",
       "      <td>Chicken</td>\n",
       "      <td>6</td>\n",
       "      <td>High</td>\n",
       "    </tr>\n",
       "    <tr>\n",
       "      <th>911</th>\n",
       "      <td>NaN</td>\n",
       "      <td>NaN</td>\n",
       "      <td>NaN</td>\n",
       "      <td>NaN</td>\n",
       "      <td>Dessert</td>\n",
       "      <td>6</td>\n",
       "      <td>High</td>\n",
       "    </tr>\n",
       "    <tr>\n",
       "      <th>918</th>\n",
       "      <td>NaN</td>\n",
       "      <td>NaN</td>\n",
       "      <td>NaN</td>\n",
       "      <td>NaN</td>\n",
       "      <td>Pork</td>\n",
       "      <td>6</td>\n",
       "      <td>High</td>\n",
       "    </tr>\n",
       "    <tr>\n",
       "      <th>938</th>\n",
       "      <td>NaN</td>\n",
       "      <td>NaN</td>\n",
       "      <td>NaN</td>\n",
       "      <td>NaN</td>\n",
       "      <td>Pork</td>\n",
       "      <td>4</td>\n",
       "      <td>High</td>\n",
       "    </tr>\n",
       "    <tr>\n",
       "      <th>943</th>\n",
       "      <td>NaN</td>\n",
       "      <td>NaN</td>\n",
       "      <td>NaN</td>\n",
       "      <td>NaN</td>\n",
       "      <td>Potato</td>\n",
       "      <td>2</td>\n",
       "      <td>High</td>\n",
       "    </tr>\n",
       "  </tbody>\n",
       "</table>\n",
       "</div>"
      ],
      "text/plain": [
       "     calories  carbohydrate  sugar  protein        category  servings  \\\n",
       "0         NaN           NaN    NaN      NaN            Pork         6   \n",
       "23        NaN           NaN    NaN      NaN            Meat         2   \n",
       "48        NaN           NaN    NaN      NaN  Chicken Breast         4   \n",
       "82        NaN           NaN    NaN      NaN            Meat         4   \n",
       "89        NaN           NaN    NaN      NaN            Pork         6   \n",
       "116       NaN           NaN    NaN      NaN  Chicken Breast         6   \n",
       "121       NaN           NaN    NaN      NaN         Dessert         2   \n",
       "136       NaN           NaN    NaN      NaN   One Dish Meal         2   \n",
       "149       NaN           NaN    NaN      NaN          Potato         2   \n",
       "187       NaN           NaN    NaN      NaN            Pork         4   \n",
       "209       NaN           NaN    NaN      NaN         Dessert         2   \n",
       "212       NaN           NaN    NaN      NaN         Dessert         4   \n",
       "221       NaN           NaN    NaN      NaN         Dessert         1   \n",
       "249       NaN           NaN    NaN      NaN         Chicken         6   \n",
       "262       NaN           NaN    NaN      NaN         Chicken         4   \n",
       "278       NaN           NaN    NaN      NaN    Lunch/Snacks         4   \n",
       "280       NaN           NaN    NaN      NaN            Meat         1   \n",
       "297       NaN           NaN    NaN      NaN    Lunch/Snacks         6   \n",
       "326       NaN           NaN    NaN      NaN          Potato         4   \n",
       "351       NaN           NaN    NaN      NaN          Potato         4   \n",
       "354       NaN           NaN    NaN      NaN            Pork         4   \n",
       "372       NaN           NaN    NaN      NaN       Vegetable         2   \n",
       "376       NaN           NaN    NaN      NaN            Pork         6   \n",
       "388       NaN           NaN    NaN      NaN    Lunch/Snacks         4   \n",
       "405       NaN           NaN    NaN      NaN       Vegetable         4   \n",
       "427       NaN           NaN    NaN      NaN       Vegetable         4   \n",
       "455       NaN           NaN    NaN      NaN            Pork         6   \n",
       "530       NaN           NaN    NaN      NaN       Vegetable         1   \n",
       "534       NaN           NaN    NaN      NaN         Chicken         2   \n",
       "538       NaN           NaN    NaN      NaN       Vegetable         4   \n",
       "545       NaN           NaN    NaN      NaN  Chicken Breast         6   \n",
       "555       NaN           NaN    NaN      NaN            Meat         2   \n",
       "573       NaN           NaN    NaN      NaN    Lunch/Snacks         4   \n",
       "581       NaN           NaN    NaN      NaN         Chicken         1   \n",
       "608       NaN           NaN    NaN      NaN  Chicken Breast         4   \n",
       "674       NaN           NaN    NaN      NaN            Pork         4   \n",
       "683       NaN           NaN    NaN      NaN          Potato         1   \n",
       "711       NaN           NaN    NaN      NaN    Lunch/Snacks         4   \n",
       "712       NaN           NaN    NaN      NaN            Pork         6   \n",
       "749       NaN           NaN    NaN      NaN         Dessert         4   \n",
       "765       NaN           NaN    NaN      NaN            Pork         1   \n",
       "772       NaN           NaN    NaN      NaN   One Dish Meal         4   \n",
       "851       NaN           NaN    NaN      NaN    Lunch/Snacks         4   \n",
       "859       NaN           NaN    NaN      NaN   One Dish Meal         4   \n",
       "865       NaN           NaN    NaN      NaN    Lunch/Snacks         6   \n",
       "890       NaN           NaN    NaN      NaN            Meat         4   \n",
       "893       NaN           NaN    NaN      NaN   One Dish Meal         4   \n",
       "896       NaN           NaN    NaN      NaN         Chicken         6   \n",
       "911       NaN           NaN    NaN      NaN         Dessert         6   \n",
       "918       NaN           NaN    NaN      NaN            Pork         6   \n",
       "938       NaN           NaN    NaN      NaN            Pork         4   \n",
       "943       NaN           NaN    NaN      NaN          Potato         2   \n",
       "\n",
       "    high_traffic  \n",
       "0           High  \n",
       "23           Low  \n",
       "48           Low  \n",
       "82          High  \n",
       "89          High  \n",
       "116         High  \n",
       "121         High  \n",
       "136         High  \n",
       "149         High  \n",
       "187         High  \n",
       "209         High  \n",
       "212         High  \n",
       "221          Low  \n",
       "249          Low  \n",
       "262          Low  \n",
       "278         High  \n",
       "280         High  \n",
       "297          Low  \n",
       "326         High  \n",
       "351         High  \n",
       "354         High  \n",
       "372         High  \n",
       "376         High  \n",
       "388         High  \n",
       "405         High  \n",
       "427         High  \n",
       "455         High  \n",
       "530         High  \n",
       "534         High  \n",
       "538         High  \n",
       "545         High  \n",
       "555          Low  \n",
       "573          Low  \n",
       "581          Low  \n",
       "608          Low  \n",
       "674         High  \n",
       "683         High  \n",
       "711         High  \n",
       "712         High  \n",
       "749         High  \n",
       "765         High  \n",
       "772          Low  \n",
       "851         High  \n",
       "859          Low  \n",
       "865         High  \n",
       "890         High  \n",
       "893          Low  \n",
       "896         High  \n",
       "911         High  \n",
       "918         High  \n",
       "938         High  \n",
       "943         High  "
      ]
     },
     "execution_count": 26,
     "metadata": {},
     "output_type": "execute_result"
    }
   ],
   "source": [
    "df[df.isna().any(axis=1)]"
   ]
  },
  {
   "cell_type": "markdown",
   "id": "f7c2933c-0632-47d6-ac29-c5255a9c3df7",
   "metadata": {},
   "source": [
    "- The first solution: the four columns 'calories', 'sugar', 'protein', and 'carbohydrate' all have right-skewed distributions, so I'll replace NaN values in each column with its median value grouped by \"category\" column.\n",
    "- The second solution: drop all rows containing NaN in all those four colums\n",
    "\n",
    "**In this case, I find out removing all NaN values will improve the model performance.**\n"
   ]
  },
  {
   "cell_type": "code",
   "execution_count": 27,
   "id": "bbf54f50-e3fb-4cd2-a8ff-c49e5d1ef08f",
   "metadata": {},
   "outputs": [],
   "source": [
    "# replace NaN values in each column with its median value grouped by \"category\" column.\n",
    "# num_cols = ['calories', 'carbohydrate', 'sugar', 'protein']\n",
    "# for col in num_cols:\n",
    "    df[col] = df.groupby('category')[col].transform(lambda x: x.fillna(x.median()))"
   ]
  },
  {
   "cell_type": "code",
   "execution_count": 28,
   "id": "6a6ce4a4-86cf-41b2-8733-76846b0e9cfd",
   "metadata": {},
   "outputs": [],
   "source": [
    "num_cols = ['calories', 'carbohydrate', 'sugar', 'protein']\n",
    "df.dropna(subset=num_cols, inplace=True)"
   ]
  },
  {
   "cell_type": "markdown",
   "id": "13f3fd21-ac29-490c-a4ae-1baa0344c5d8",
   "metadata": {
    "tags": []
   },
   "source": [
    "## Dealing with outliers"
   ]
  },
  {
   "cell_type": "code",
   "execution_count": 29,
   "id": "00900dbf-3845-4872-8fed-093f4a9465e5",
   "metadata": {},
   "outputs": [
    {
     "data": {
      "text/html": [
       "<div>\n",
       "<style scoped>\n",
       "    .dataframe tbody tr th:only-of-type {\n",
       "        vertical-align: middle;\n",
       "    }\n",
       "\n",
       "    .dataframe tbody tr th {\n",
       "        vertical-align: top;\n",
       "    }\n",
       "\n",
       "    .dataframe thead th {\n",
       "        text-align: right;\n",
       "    }\n",
       "</style>\n",
       "<table border=\"1\" class=\"dataframe\">\n",
       "  <thead>\n",
       "    <tr style=\"text-align: right;\">\n",
       "      <th></th>\n",
       "      <th>skew</th>\n",
       "    </tr>\n",
       "  </thead>\n",
       "  <tbody>\n",
       "    <tr>\n",
       "      <th>calories</th>\n",
       "      <td>2.036151</td>\n",
       "    </tr>\n",
       "    <tr>\n",
       "      <th>carbohydrate</th>\n",
       "      <td>3.756980</td>\n",
       "    </tr>\n",
       "    <tr>\n",
       "      <th>sugar</th>\n",
       "      <td>4.223352</td>\n",
       "    </tr>\n",
       "    <tr>\n",
       "      <th>protein</th>\n",
       "      <td>3.509453</td>\n",
       "    </tr>\n",
       "  </tbody>\n",
       "</table>\n",
       "</div>"
      ],
      "text/plain": [
       "                  skew\n",
       "calories      2.036151\n",
       "carbohydrate  3.756980\n",
       "sugar         4.223352\n",
       "protein       3.509453"
      ]
     },
     "execution_count": 29,
     "metadata": {},
     "output_type": "execute_result"
    }
   ],
   "source": [
    "df[num_cols].skew().to_frame('skew')"
   ]
  },
  {
   "cell_type": "markdown",
   "id": "3fdc04cb-4ae5-4cfa-891c-94bfb5490b6e",
   "metadata": {},
   "source": [
    "- Using **skew()** function we can see that four columns **'calories', 'carbohydrate', 'sugar',** and **'protein'** are highly right-skewed.\n",
    "- On the boxplots above, there are many outliers on those columns, and those outliers are pretty far away from the upper intequartiles. In this case, I've decided to replace outliers with the upper limit intequartiles of each column."
   ]
  },
  {
   "cell_type": "markdown",
   "id": "0ee5b969-3318-4b75-9ff7-8c8a01924826",
   "metadata": {},
   "source": [
    "#### Checking 'mean', 'median', '25th' and '75' percentiles of four variables **'calories', 'carbohydrate', 'sugar',** and **'protein'** grouped by **'category'**"
   ]
  },
  {
   "cell_type": "code",
   "execution_count": 30,
   "id": "49813e51-3889-4c8c-a16a-b63e8189e2e7",
   "metadata": {},
   "outputs": [
    {
     "name": "stdout",
     "output_type": "stream",
     "text": [
      "The 25th and 75th of 'calories' are respectively 110.43, 597.65\n",
      "The 25th and 75th of 'carbohydrate' are respectively 8.375, 44.965\n",
      "The 25th and 75th of 'sugar' are respectively 1.69, 9.8\n",
      "The 25th and 75th of 'protein' are respectively 3.1950000000000003, 30.200000000000003\n"
     ]
    }
   ],
   "source": [
    "num_cols = ['calories', 'carbohydrate', 'sugar', 'protein']\n",
    "per1, per2 = 25, 75\n",
    "for col in num_cols:\n",
    "    q1, q2 = np.percentile(df[col], [per1, per2])\n",
    "    print(f\"The {per1}th and {per2}th of '{col}' are respectively {q1}, {q2}\")"
   ]
  },
  {
   "cell_type": "code",
   "execution_count": 31,
   "id": "ff2cad7a-a68f-492c-b31d-8beb68cdc40f",
   "metadata": {},
   "outputs": [],
   "source": [
    "def percentile(n):\n",
    "    def percentile_(col):\n",
    "        return np.percentile(col, n)\n",
    "    percentile_.__name__ = f\"percentile_{n}\"\n",
    "    return percentile_"
   ]
  },
  {
   "cell_type": "code",
   "execution_count": 32,
   "id": "72dbe55e-4919-4e55-927d-511d4d2a4c7a",
   "metadata": {},
   "outputs": [
    {
     "name": "stdout",
     "output_type": "stream",
     "text": [
      "Mean, 25th, 50th, and 75th percentiles by 'category': \n"
     ]
    },
    {
     "data": {
      "text/html": [
       "<div>\n",
       "<style scoped>\n",
       "    .dataframe tbody tr th:only-of-type {\n",
       "        vertical-align: middle;\n",
       "    }\n",
       "\n",
       "    .dataframe tbody tr th {\n",
       "        vertical-align: top;\n",
       "    }\n",
       "\n",
       "    .dataframe thead tr th {\n",
       "        text-align: left;\n",
       "    }\n",
       "\n",
       "    .dataframe thead tr:last-of-type th {\n",
       "        text-align: right;\n",
       "    }\n",
       "</style>\n",
       "<table border=\"1\" class=\"dataframe\">\n",
       "  <thead>\n",
       "    <tr>\n",
       "      <th></th>\n",
       "      <th colspan=\"4\" halign=\"left\">calories</th>\n",
       "      <th colspan=\"4\" halign=\"left\">carbohydrate</th>\n",
       "      <th colspan=\"4\" halign=\"left\">sugar</th>\n",
       "      <th colspan=\"4\" halign=\"left\">protein</th>\n",
       "    </tr>\n",
       "    <tr>\n",
       "      <th></th>\n",
       "      <th>mean</th>\n",
       "      <th>percentile_25</th>\n",
       "      <th>median</th>\n",
       "      <th>percentile_75</th>\n",
       "      <th>mean</th>\n",
       "      <th>percentile_25</th>\n",
       "      <th>median</th>\n",
       "      <th>percentile_75</th>\n",
       "      <th>mean</th>\n",
       "      <th>percentile_25</th>\n",
       "      <th>median</th>\n",
       "      <th>percentile_75</th>\n",
       "      <th>mean</th>\n",
       "      <th>percentile_25</th>\n",
       "      <th>median</th>\n",
       "      <th>percentile_75</th>\n",
       "    </tr>\n",
       "    <tr>\n",
       "      <th>category</th>\n",
       "      <th></th>\n",
       "      <th></th>\n",
       "      <th></th>\n",
       "      <th></th>\n",
       "      <th></th>\n",
       "      <th></th>\n",
       "      <th></th>\n",
       "      <th></th>\n",
       "      <th></th>\n",
       "      <th></th>\n",
       "      <th></th>\n",
       "      <th></th>\n",
       "      <th></th>\n",
       "      <th></th>\n",
       "      <th></th>\n",
       "      <th></th>\n",
       "    </tr>\n",
       "  </thead>\n",
       "  <tbody>\n",
       "    <tr>\n",
       "      <th>Beverages</th>\n",
       "      <td>177.732174</td>\n",
       "      <td>63.6475</td>\n",
       "      <td>126.455</td>\n",
       "      <td>269.1075</td>\n",
       "      <td>15.955978</td>\n",
       "      <td>3.4550</td>\n",
       "      <td>11.250</td>\n",
       "      <td>21.0275</td>\n",
       "      <td>12.537283</td>\n",
       "      <td>3.1275</td>\n",
       "      <td>8.075</td>\n",
       "      <td>15.9575</td>\n",
       "      <td>0.594783</td>\n",
       "      <td>0.1475</td>\n",
       "      <td>0.410</td>\n",
       "      <td>0.8950</td>\n",
       "    </tr>\n",
       "    <tr>\n",
       "      <th>Breakfast</th>\n",
       "      <td>331.880000</td>\n",
       "      <td>64.6400</td>\n",
       "      <td>229.380</td>\n",
       "      <td>497.2350</td>\n",
       "      <td>39.711698</td>\n",
       "      <td>11.8600</td>\n",
       "      <td>28.420</td>\n",
       "      <td>51.5250</td>\n",
       "      <td>7.552264</td>\n",
       "      <td>2.1800</td>\n",
       "      <td>4.830</td>\n",
       "      <td>10.7925</td>\n",
       "      <td>16.957170</td>\n",
       "      <td>5.8400</td>\n",
       "      <td>11.685</td>\n",
       "      <td>23.1925</td>\n",
       "    </tr>\n",
       "    <tr>\n",
       "      <th>Chicken</th>\n",
       "      <td>566.732029</td>\n",
       "      <td>248.2800</td>\n",
       "      <td>379.870</td>\n",
       "      <td>642.7100</td>\n",
       "      <td>30.751304</td>\n",
       "      <td>7.9300</td>\n",
       "      <td>18.110</td>\n",
       "      <td>38.0900</td>\n",
       "      <td>5.678261</td>\n",
       "      <td>1.2000</td>\n",
       "      <td>3.170</td>\n",
       "      <td>8.5400</td>\n",
       "      <td>41.843913</td>\n",
       "      <td>10.5500</td>\n",
       "      <td>32.980</td>\n",
       "      <td>56.1900</td>\n",
       "    </tr>\n",
       "    <tr>\n",
       "      <th>Chicken Breast</th>\n",
       "      <td>540.338511</td>\n",
       "      <td>182.6425</td>\n",
       "      <td>371.335</td>\n",
       "      <td>769.8175</td>\n",
       "      <td>21.833191</td>\n",
       "      <td>7.3400</td>\n",
       "      <td>13.475</td>\n",
       "      <td>33.6150</td>\n",
       "      <td>5.098723</td>\n",
       "      <td>1.3750</td>\n",
       "      <td>3.645</td>\n",
       "      <td>6.5150</td>\n",
       "      <td>52.161383</td>\n",
       "      <td>15.9550</td>\n",
       "      <td>37.770</td>\n",
       "      <td>76.6625</td>\n",
       "    </tr>\n",
       "    <tr>\n",
       "      <th>Dessert</th>\n",
       "      <td>351.402078</td>\n",
       "      <td>110.1700</td>\n",
       "      <td>288.550</td>\n",
       "      <td>561.7200</td>\n",
       "      <td>55.661818</td>\n",
       "      <td>17.7200</td>\n",
       "      <td>38.550</td>\n",
       "      <td>73.1600</td>\n",
       "      <td>35.228442</td>\n",
       "      <td>8.1200</td>\n",
       "      <td>24.650</td>\n",
       "      <td>50.8100</td>\n",
       "      <td>5.759870</td>\n",
       "      <td>2.4900</td>\n",
       "      <td>4.810</td>\n",
       "      <td>7.7100</td>\n",
       "    </tr>\n",
       "    <tr>\n",
       "      <th>Lunch/Snacks</th>\n",
       "      <td>478.848537</td>\n",
       "      <td>112.8450</td>\n",
       "      <td>369.505</td>\n",
       "      <td>732.0725</td>\n",
       "      <td>42.820976</td>\n",
       "      <td>11.0450</td>\n",
       "      <td>31.985</td>\n",
       "      <td>63.3300</td>\n",
       "      <td>5.309146</td>\n",
       "      <td>1.4575</td>\n",
       "      <td>2.750</td>\n",
       "      <td>6.5825</td>\n",
       "      <td>19.610976</td>\n",
       "      <td>6.4550</td>\n",
       "      <td>12.965</td>\n",
       "      <td>23.8375</td>\n",
       "    </tr>\n",
       "    <tr>\n",
       "      <th>Meat</th>\n",
       "      <td>584.533784</td>\n",
       "      <td>174.9550</td>\n",
       "      <td>460.870</td>\n",
       "      <td>812.6175</td>\n",
       "      <td>22.159595</td>\n",
       "      <td>6.4725</td>\n",
       "      <td>19.115</td>\n",
       "      <td>31.4175</td>\n",
       "      <td>5.813649</td>\n",
       "      <td>1.5150</td>\n",
       "      <td>3.385</td>\n",
       "      <td>8.1775</td>\n",
       "      <td>40.377027</td>\n",
       "      <td>14.9225</td>\n",
       "      <td>28.530</td>\n",
       "      <td>53.0175</td>\n",
       "    </tr>\n",
       "    <tr>\n",
       "      <th>One Dish Meal</th>\n",
       "      <td>579.090000</td>\n",
       "      <td>186.8100</td>\n",
       "      <td>419.280</td>\n",
       "      <td>832.8600</td>\n",
       "      <td>50.383433</td>\n",
       "      <td>11.2650</td>\n",
       "      <td>25.430</td>\n",
       "      <td>79.5600</td>\n",
       "      <td>6.011642</td>\n",
       "      <td>1.6550</td>\n",
       "      <td>4.040</td>\n",
       "      <td>7.8450</td>\n",
       "      <td>35.926418</td>\n",
       "      <td>10.1350</td>\n",
       "      <td>28.480</td>\n",
       "      <td>49.3350</td>\n",
       "    </tr>\n",
       "    <tr>\n",
       "      <th>Pork</th>\n",
       "      <td>629.708082</td>\n",
       "      <td>144.2800</td>\n",
       "      <td>399.260</td>\n",
       "      <td>951.7400</td>\n",
       "      <td>28.076164</td>\n",
       "      <td>7.5200</td>\n",
       "      <td>19.560</td>\n",
       "      <td>42.5300</td>\n",
       "      <td>8.040137</td>\n",
       "      <td>1.8900</td>\n",
       "      <td>5.230</td>\n",
       "      <td>9.4000</td>\n",
       "      <td>43.797671</td>\n",
       "      <td>13.8700</td>\n",
       "      <td>29.820</td>\n",
       "      <td>52.0000</td>\n",
       "    </tr>\n",
       "    <tr>\n",
       "      <th>Potato</th>\n",
       "      <td>425.068554</td>\n",
       "      <td>139.6450</td>\n",
       "      <td>269.460</td>\n",
       "      <td>611.0000</td>\n",
       "      <td>58.150361</td>\n",
       "      <td>16.3150</td>\n",
       "      <td>32.540</td>\n",
       "      <td>61.8050</td>\n",
       "      <td>3.718916</td>\n",
       "      <td>1.2250</td>\n",
       "      <td>2.640</td>\n",
       "      <td>5.2500</td>\n",
       "      <td>8.574217</td>\n",
       "      <td>2.9600</td>\n",
       "      <td>5.900</td>\n",
       "      <td>9.6850</td>\n",
       "    </tr>\n",
       "    <tr>\n",
       "      <th>Vegetable</th>\n",
       "      <td>245.014872</td>\n",
       "      <td>62.8575</td>\n",
       "      <td>124.305</td>\n",
       "      <td>329.4200</td>\n",
       "      <td>23.679359</td>\n",
       "      <td>5.6100</td>\n",
       "      <td>13.335</td>\n",
       "      <td>36.6100</td>\n",
       "      <td>5.065128</td>\n",
       "      <td>1.5900</td>\n",
       "      <td>3.700</td>\n",
       "      <td>6.1950</td>\n",
       "      <td>7.891923</td>\n",
       "      <td>1.7850</td>\n",
       "      <td>4.835</td>\n",
       "      <td>10.7875</td>\n",
       "    </tr>\n",
       "  </tbody>\n",
       "</table>\n",
       "</div>"
      ],
      "text/plain": [
       "                  calories                                      carbohydrate  \\\n",
       "                      mean percentile_25   median percentile_75         mean   \n",
       "category                                                                       \n",
       "Beverages       177.732174       63.6475  126.455      269.1075    15.955978   \n",
       "Breakfast       331.880000       64.6400  229.380      497.2350    39.711698   \n",
       "Chicken         566.732029      248.2800  379.870      642.7100    30.751304   \n",
       "Chicken Breast  540.338511      182.6425  371.335      769.8175    21.833191   \n",
       "Dessert         351.402078      110.1700  288.550      561.7200    55.661818   \n",
       "Lunch/Snacks    478.848537      112.8450  369.505      732.0725    42.820976   \n",
       "Meat            584.533784      174.9550  460.870      812.6175    22.159595   \n",
       "One Dish Meal   579.090000      186.8100  419.280      832.8600    50.383433   \n",
       "Pork            629.708082      144.2800  399.260      951.7400    28.076164   \n",
       "Potato          425.068554      139.6450  269.460      611.0000    58.150361   \n",
       "Vegetable       245.014872       62.8575  124.305      329.4200    23.679359   \n",
       "\n",
       "                                                        sugar                \\\n",
       "               percentile_25  median percentile_75       mean percentile_25   \n",
       "category                                                                      \n",
       "Beverages             3.4550  11.250       21.0275  12.537283        3.1275   \n",
       "Breakfast            11.8600  28.420       51.5250   7.552264        2.1800   \n",
       "Chicken               7.9300  18.110       38.0900   5.678261        1.2000   \n",
       "Chicken Breast        7.3400  13.475       33.6150   5.098723        1.3750   \n",
       "Dessert              17.7200  38.550       73.1600  35.228442        8.1200   \n",
       "Lunch/Snacks         11.0450  31.985       63.3300   5.309146        1.4575   \n",
       "Meat                  6.4725  19.115       31.4175   5.813649        1.5150   \n",
       "One Dish Meal        11.2650  25.430       79.5600   6.011642        1.6550   \n",
       "Pork                  7.5200  19.560       42.5300   8.040137        1.8900   \n",
       "Potato               16.3150  32.540       61.8050   3.718916        1.2250   \n",
       "Vegetable             5.6100  13.335       36.6100   5.065128        1.5900   \n",
       "\n",
       "                                        protein                        \\\n",
       "                median percentile_75       mean percentile_25  median   \n",
       "category                                                                \n",
       "Beverages        8.075       15.9575   0.594783        0.1475   0.410   \n",
       "Breakfast        4.830       10.7925  16.957170        5.8400  11.685   \n",
       "Chicken          3.170        8.5400  41.843913       10.5500  32.980   \n",
       "Chicken Breast   3.645        6.5150  52.161383       15.9550  37.770   \n",
       "Dessert         24.650       50.8100   5.759870        2.4900   4.810   \n",
       "Lunch/Snacks     2.750        6.5825  19.610976        6.4550  12.965   \n",
       "Meat             3.385        8.1775  40.377027       14.9225  28.530   \n",
       "One Dish Meal    4.040        7.8450  35.926418       10.1350  28.480   \n",
       "Pork             5.230        9.4000  43.797671       13.8700  29.820   \n",
       "Potato           2.640        5.2500   8.574217        2.9600   5.900   \n",
       "Vegetable        3.700        6.1950   7.891923        1.7850   4.835   \n",
       "\n",
       "                              \n",
       "               percentile_75  \n",
       "category                      \n",
       "Beverages             0.8950  \n",
       "Breakfast            23.1925  \n",
       "Chicken              56.1900  \n",
       "Chicken Breast       76.6625  \n",
       "Dessert               7.7100  \n",
       "Lunch/Snacks         23.8375  \n",
       "Meat                 53.0175  \n",
       "One Dish Meal        49.3350  \n",
       "Pork                 52.0000  \n",
       "Potato                9.6850  \n",
       "Vegetable            10.7875  "
      ]
     },
     "execution_count": 32,
     "metadata": {},
     "output_type": "execute_result"
    }
   ],
   "source": [
    "print(\"Mean, 25th, 50th, and 75th percentiles by 'category': \")\n",
    "df.groupby('category')[num_cols].agg(['mean', percentile(25), 'median', percentile(75)])"
   ]
  },
  {
   "cell_type": "markdown",
   "id": "47a79f87-6f72-4f5c-856b-1239c3b88af4",
   "metadata": {},
   "source": [
    "#### Checking lower and upper limits of four variables **'calories', 'carbohydrate', 'sugar',** and **'protein'**"
   ]
  },
  {
   "cell_type": "code",
   "execution_count": 33,
   "id": "ef2f5d69-2a6d-44fa-b8fc-0d9b3a7e767a",
   "metadata": {},
   "outputs": [
    {
     "name": "stdout",
     "output_type": "stream",
     "text": [
      "Lower and Upper limits of 'calories' are respectively -620.3999999999999 and 1328.48\n",
      "Lower and Upper limits of 'carbohydrate' are respectively -46.510000000000005 and 99.85000000000001\n",
      "Lower and Upper limits of 'sugar' are respectively -10.475000000000003 and 21.965000000000003\n",
      "Lower and Upper limits of 'protein' are respectively -37.31250000000001 and 70.70750000000001\n"
     ]
    }
   ],
   "source": [
    "num_cols = ['calories', 'carbohydrate', 'sugar', 'protein']\n",
    "for col in num_cols:\n",
    "    Q1, Q3 = np.percentile(df[col], [25, 75])\n",
    "    IQR = Q3 - Q1\n",
    "    lower, upper = Q1 - 1.5 * IQR, Q3 + 1.5 * IQR\n",
    "    print(f\"Lower and Upper limits of '{col}' are respectively {lower} and {upper}\")"
   ]
  },
  {
   "cell_type": "code",
   "execution_count": 34,
   "id": "54073fef-c120-4976-8fa0-6c8e38a68935",
   "metadata": {},
   "outputs": [
    {
     "name": "stdout",
     "output_type": "stream",
     "text": [
      "There are 47 values which are greater than the upper limit in 'calories'\n",
      "There are 58 values which are greater than the upper limit in 'carbohydrate'\n",
      "There are 79 values which are greater than the upper limit in 'sugar'\n",
      "There are 77 values which are greater than the upper limit in 'protein'\n"
     ]
    }
   ],
   "source": [
    "num_cols = ['calories', 'carbohydrate', 'sugar', 'protein']\n",
    "for col in num_cols:\n",
    "    Q1, Q3 = np.percentile(df[col], [25, 75])\n",
    "    IQR = Q3 - Q1\n",
    "    lower, upper = Q1 - 1.5 * IQR, Q3 + 1.5 * IQR\n",
    "    n = len(df.loc[df[col] > upper])\n",
    "    print(f\"There are {n} values which are greater than the upper limit in '{col}'\")"
   ]
  },
  {
   "cell_type": "code",
   "execution_count": 35,
   "id": "ff3fb0d1-c098-4808-8311-71697c5e35d9",
   "metadata": {},
   "outputs": [],
   "source": [
    "def upper_limit(col):\n",
    "    Q1, Q3 = np.percentile(col, [25, 75])\n",
    "    IQR = Q3 - Q1\n",
    "    upper = Q3 + 1.5 * IQR\n",
    "    return upper\n"
   ]
  },
  {
   "cell_type": "code",
   "execution_count": 36,
   "id": "356644f4-a971-45e9-8f4c-89081d8c1cce",
   "metadata": {},
   "outputs": [
    {
     "name": "stdout",
     "output_type": "stream",
     "text": [
      "The upper limits by 'category': \n"
     ]
    },
    {
     "data": {
      "text/html": [
       "<div>\n",
       "<style scoped>\n",
       "    .dataframe tbody tr th:only-of-type {\n",
       "        vertical-align: middle;\n",
       "    }\n",
       "\n",
       "    .dataframe tbody tr th {\n",
       "        vertical-align: top;\n",
       "    }\n",
       "\n",
       "    .dataframe thead th {\n",
       "        text-align: right;\n",
       "    }\n",
       "</style>\n",
       "<table border=\"1\" class=\"dataframe\">\n",
       "  <thead>\n",
       "    <tr style=\"text-align: right;\">\n",
       "      <th></th>\n",
       "      <th>calories</th>\n",
       "      <th>carbohydrate</th>\n",
       "      <th>sugar</th>\n",
       "      <th>protein</th>\n",
       "    </tr>\n",
       "    <tr>\n",
       "      <th>category</th>\n",
       "      <th></th>\n",
       "      <th></th>\n",
       "      <th></th>\n",
       "      <th></th>\n",
       "    </tr>\n",
       "  </thead>\n",
       "  <tbody>\n",
       "    <tr>\n",
       "      <th>Beverages</th>\n",
       "      <td>577.29750</td>\n",
       "      <td>47.38625</td>\n",
       "      <td>35.20250</td>\n",
       "      <td>2.01625</td>\n",
       "    </tr>\n",
       "    <tr>\n",
       "      <th>Breakfast</th>\n",
       "      <td>1146.12750</td>\n",
       "      <td>111.02250</td>\n",
       "      <td>23.71125</td>\n",
       "      <td>49.22125</td>\n",
       "    </tr>\n",
       "    <tr>\n",
       "      <th>Chicken</th>\n",
       "      <td>1234.35500</td>\n",
       "      <td>83.33000</td>\n",
       "      <td>19.55000</td>\n",
       "      <td>124.65000</td>\n",
       "    </tr>\n",
       "    <tr>\n",
       "      <th>Chicken Breast</th>\n",
       "      <td>1650.58000</td>\n",
       "      <td>73.02750</td>\n",
       "      <td>14.22500</td>\n",
       "      <td>167.72375</td>\n",
       "    </tr>\n",
       "    <tr>\n",
       "      <th>Dessert</th>\n",
       "      <td>1239.04500</td>\n",
       "      <td>156.32000</td>\n",
       "      <td>114.84500</td>\n",
       "      <td>15.54000</td>\n",
       "    </tr>\n",
       "    <tr>\n",
       "      <th>Lunch/Snacks</th>\n",
       "      <td>1660.91375</td>\n",
       "      <td>141.75750</td>\n",
       "      <td>14.27000</td>\n",
       "      <td>49.91125</td>\n",
       "    </tr>\n",
       "    <tr>\n",
       "      <th>Meat</th>\n",
       "      <td>1769.11125</td>\n",
       "      <td>68.83500</td>\n",
       "      <td>18.17125</td>\n",
       "      <td>110.16000</td>\n",
       "    </tr>\n",
       "    <tr>\n",
       "      <th>One Dish Meal</th>\n",
       "      <td>1801.93500</td>\n",
       "      <td>182.00250</td>\n",
       "      <td>17.13000</td>\n",
       "      <td>108.13500</td>\n",
       "    </tr>\n",
       "    <tr>\n",
       "      <th>Pork</th>\n",
       "      <td>2162.93000</td>\n",
       "      <td>95.04500</td>\n",
       "      <td>20.66500</td>\n",
       "      <td>109.19500</td>\n",
       "    </tr>\n",
       "    <tr>\n",
       "      <th>Potato</th>\n",
       "      <td>1318.03250</td>\n",
       "      <td>130.04000</td>\n",
       "      <td>11.28750</td>\n",
       "      <td>19.77250</td>\n",
       "    </tr>\n",
       "    <tr>\n",
       "      <th>Vegetable</th>\n",
       "      <td>729.26375</td>\n",
       "      <td>83.11000</td>\n",
       "      <td>13.10250</td>\n",
       "      <td>24.29125</td>\n",
       "    </tr>\n",
       "  </tbody>\n",
       "</table>\n",
       "</div>"
      ],
      "text/plain": [
       "                  calories  carbohydrate      sugar    protein\n",
       "category                                                      \n",
       "Beverages        577.29750      47.38625   35.20250    2.01625\n",
       "Breakfast       1146.12750     111.02250   23.71125   49.22125\n",
       "Chicken         1234.35500      83.33000   19.55000  124.65000\n",
       "Chicken Breast  1650.58000      73.02750   14.22500  167.72375\n",
       "Dessert         1239.04500     156.32000  114.84500   15.54000\n",
       "Lunch/Snacks    1660.91375     141.75750   14.27000   49.91125\n",
       "Meat            1769.11125      68.83500   18.17125  110.16000\n",
       "One Dish Meal   1801.93500     182.00250   17.13000  108.13500\n",
       "Pork            2162.93000      95.04500   20.66500  109.19500\n",
       "Potato          1318.03250     130.04000   11.28750   19.77250\n",
       "Vegetable        729.26375      83.11000   13.10250   24.29125"
      ]
     },
     "execution_count": 36,
     "metadata": {},
     "output_type": "execute_result"
    }
   ],
   "source": [
    "num_cols = ['calories', 'carbohydrate', 'sugar', 'protein']\n",
    "upper_limit = df.groupby('category')[num_cols].agg(upper_limit)\n",
    "print(\"The upper limits by 'category': \")\n",
    "upper_limit"
   ]
  },
  {
   "cell_type": "markdown",
   "id": "f4ac0e5c-4944-470b-a8d7-edad7c985cb7",
   "metadata": {},
   "source": [
    "- The lower limits of those variables are all negative values, which makes no sense so the upper limits are all we care about.\n",
    "- As we can see, the average upper limit values are way different from the upper limits of each category.\n",
    "- I suggest replacing the values which are greater than the upper limits of each category with the categories' upper limit."
   ]
  },
  {
   "cell_type": "markdown",
   "id": "6234212d-8557-4395-b2bc-c0e15c891174",
   "metadata": {
    "tags": []
   },
   "source": [
    "### Deal with extremely high outliers\n",
    "\n",
    "Using **iterrows()** method to replace outliers with the appropriate values in the above table."
   ]
  },
  {
   "cell_type": "code",
   "execution_count": 37,
   "id": "5d747474-085b-4da8-9a63-1c733b6af079",
   "metadata": {},
   "outputs": [],
   "source": [
    "num_cols = ['calories', 'carbohydrate', 'sugar', 'protein']\n",
    "for col in num_cols:\n",
    "    upper_limit_dict = upper_limit[col].to_dict()\n",
    "    for ind, row in df.iterrows():\n",
    "        category = row['category']\n",
    "        upper_value = upper_limit_dict[category]\n",
    "        if category in upper_limit_dict and row[col] > upper_value:\n",
    "            df.loc[ind, col] = upper_value"
   ]
  },
  {
   "cell_type": "markdown",
   "id": "5b013026-569e-493d-ae30-22f592b8f509",
   "metadata": {},
   "source": [
    "### Deal with low values in 'calories' colum\n",
    " \n",
    "- There are many low calorie values while the value of 'carbohydrate', 'sugar', and 'protein' are pretty high. This doesn't make sense.\n",
    "- According to **Food and Nutrition Information Center (FNIC)**, **carbohydrate**, **sugar**, and **protein** provide **4 calories per gram** for each nutrition.\n",
    "- So, I'll calculate theorical calories based on 'carbohydrate', 'sugar', 'protein' columns, and compare to the true calories in the dataset.\n",
    "- There are 362 \"unreasonably low\" calorie values based on my assumption. We can do either of the following two ways:\n",
    "    - Replace the calorie values with the theorical values if the observed values are less than the theorical values. This way could make the data biased since there are so many of them.\n",
    "    - Or, we can just leave them as they are.\n",
    "   \n",
    "- And as I expected, when I run the model for those two cases, the model gets good accuracy when I just leave all the low values alone. "
   ]
  },
  {
   "cell_type": "code",
   "execution_count": 38,
   "id": "5830e89b-0798-4e58-ab11-1c98790754d1",
   "metadata": {},
   "outputs": [
    {
     "name": "stdout",
     "output_type": "stream",
     "text": [
      "There are 362 rows that have observed calories less than the theorical calorie value.\n"
     ]
    }
   ],
   "source": [
    "theor_calories = 4 * (df.carbohydrate + df.sugar + df.protein)\n",
    "n = df.loc[df.calories < theor_calories].shape[0]\n",
    "print(f\"There are {n} rows that have observed calories less than the theorical calorie value.\")"
   ]
  },
  {
   "cell_type": "code",
   "execution_count": 39,
   "id": "deefc060-09f5-48b6-9a96-58f972a5272d",
   "metadata": {},
   "outputs": [],
   "source": [
    "# df.loc[df.calories < theor_calories, 'calories'] = theor_calories"
   ]
  },
  {
   "cell_type": "code",
   "execution_count": 40,
   "id": "fedb487b-b61e-49f0-b013-b3cd8a561ab4",
   "metadata": {},
   "outputs": [],
   "source": [
    "# num_cols = ['calories', 'carbohydrate', 'sugar', 'protein']\n",
    "# fig, ax = plt.subplots(2, 4, figsize=(10,8))\n",
    "# for i, nut in enumerate(num_cols):\n",
    "#     ax[0, i].hist(df[nut], bins=20, color=color)\n",
    "#     ax[0, i].set_title(nut.title())\n",
    "#     ax[0, i].spines[['top', 'right']].set_visible(False)\n",
    "    \n",
    "# for i, nut in enumerate(num_cols):\n",
    "#     sns.boxplot(y=df[nut], ax=ax[1, i], color=color)\n",
    "#     ax[1, i].spines[['top', 'right']].set_visible(False)"
   ]
  },
  {
   "cell_type": "code",
   "execution_count": 41,
   "id": "cee1f246-24e0-48e4-a205-ac98ab16730d",
   "metadata": {},
   "outputs": [],
   "source": [
    "# num_cols = ['calories', 'carbohydrate', 'sugar', 'protein']\n",
    "# for col in num_cols:\n",
    "#     Q1, Q3 = np.percentile(df[col], [25, 75])\n",
    "#     IQR = Q3 - Q1\n",
    "#     lower, upper = Q1 - 1.5 * IQR, Q3 + 1.5 * IQR\n",
    "#     df.loc[df[col] > upper, col] = upper\n",
    "#     df.loc[df[col] < lower, col] = lower\n"
   ]
  },
  {
   "cell_type": "markdown",
   "id": "d72fb101-49af-4ae6-889f-d825e708c348",
   "metadata": {},
   "source": [
    "## Feature engineering, get dummies, split data, and scale data"
   ]
  },
  {
   "cell_type": "code",
   "execution_count": 42,
   "id": "95016be8-686e-43b9-804e-ab7b21be9a36",
   "metadata": {},
   "outputs": [],
   "source": [
    "#Create 'total_nutrition' column which is the sum of three columns 'carbohydrate', 'sugar', 'protein'\n",
    "df['total_nutrition'] = df.carbohydrate + df.sugar + df.protein\n",
    "\n",
    "#Create 'calories_per_serving' column by dividing 'calories' by 'servings'\n",
    "df['calories_per_serving'] = df['calories'] / df['servings']\n"
   ]
  },
  {
   "cell_type": "code",
   "execution_count": 43,
   "id": "ca314175-224a-482c-b9eb-4653be69492b",
   "metadata": {},
   "outputs": [],
   "source": [
    "#Convert 'high_traffic' to a binary feature\n",
    "#Assign value 1 to \"High\", 0 to \"Low\"\n",
    "df.high_traffic = df.high_traffic.map({\"High\":1, \"Low\":0})"
   ]
  },
  {
   "cell_type": "code",
   "execution_count": 44,
   "id": "ee594f4c-a93e-4b9b-a508-17f6e0fc30a7",
   "metadata": {},
   "outputs": [
    {
     "data": {
      "text/html": [
       "<div>\n",
       "<style scoped>\n",
       "    .dataframe tbody tr th:only-of-type {\n",
       "        vertical-align: middle;\n",
       "    }\n",
       "\n",
       "    .dataframe tbody tr th {\n",
       "        vertical-align: top;\n",
       "    }\n",
       "\n",
       "    .dataframe thead th {\n",
       "        text-align: right;\n",
       "    }\n",
       "</style>\n",
       "<table border=\"1\" class=\"dataframe\">\n",
       "  <thead>\n",
       "    <tr style=\"text-align: right;\">\n",
       "      <th></th>\n",
       "      <th>calories</th>\n",
       "      <th>carbohydrate</th>\n",
       "      <th>sugar</th>\n",
       "      <th>protein</th>\n",
       "      <th>category</th>\n",
       "      <th>servings</th>\n",
       "      <th>high_traffic</th>\n",
       "      <th>total_nutrition</th>\n",
       "      <th>calories_per_serving</th>\n",
       "    </tr>\n",
       "  </thead>\n",
       "  <tbody>\n",
       "    <tr>\n",
       "      <th>1</th>\n",
       "      <td>35.48</td>\n",
       "      <td>38.56</td>\n",
       "      <td>0.6600</td>\n",
       "      <td>0.92</td>\n",
       "      <td>Potato</td>\n",
       "      <td>4</td>\n",
       "      <td>1</td>\n",
       "      <td>40.1400</td>\n",
       "      <td>8.8700</td>\n",
       "    </tr>\n",
       "    <tr>\n",
       "      <th>2</th>\n",
       "      <td>914.28</td>\n",
       "      <td>42.68</td>\n",
       "      <td>3.0900</td>\n",
       "      <td>2.88</td>\n",
       "      <td>Breakfast</td>\n",
       "      <td>1</td>\n",
       "      <td>0</td>\n",
       "      <td>48.6500</td>\n",
       "      <td>914.2800</td>\n",
       "    </tr>\n",
       "    <tr>\n",
       "      <th>3</th>\n",
       "      <td>97.03</td>\n",
       "      <td>30.56</td>\n",
       "      <td>35.2025</td>\n",
       "      <td>0.02</td>\n",
       "      <td>Beverages</td>\n",
       "      <td>4</td>\n",
       "      <td>1</td>\n",
       "      <td>65.7825</td>\n",
       "      <td>24.2575</td>\n",
       "    </tr>\n",
       "    <tr>\n",
       "      <th>4</th>\n",
       "      <td>27.05</td>\n",
       "      <td>1.85</td>\n",
       "      <td>0.8000</td>\n",
       "      <td>0.53</td>\n",
       "      <td>Beverages</td>\n",
       "      <td>4</td>\n",
       "      <td>0</td>\n",
       "      <td>3.1800</td>\n",
       "      <td>6.7625</td>\n",
       "    </tr>\n",
       "    <tr>\n",
       "      <th>5</th>\n",
       "      <td>691.15</td>\n",
       "      <td>3.46</td>\n",
       "      <td>1.6500</td>\n",
       "      <td>53.93</td>\n",
       "      <td>One Dish Meal</td>\n",
       "      <td>2</td>\n",
       "      <td>1</td>\n",
       "      <td>59.0400</td>\n",
       "      <td>345.5750</td>\n",
       "    </tr>\n",
       "  </tbody>\n",
       "</table>\n",
       "</div>"
      ],
      "text/plain": [
       "   calories  carbohydrate    sugar  protein       category  servings  \\\n",
       "1     35.48         38.56   0.6600     0.92         Potato         4   \n",
       "2    914.28         42.68   3.0900     2.88      Breakfast         1   \n",
       "3     97.03         30.56  35.2025     0.02      Beverages         4   \n",
       "4     27.05          1.85   0.8000     0.53      Beverages         4   \n",
       "5    691.15          3.46   1.6500    53.93  One Dish Meal         2   \n",
       "\n",
       "   high_traffic  total_nutrition  calories_per_serving  \n",
       "1             1          40.1400                8.8700  \n",
       "2             0          48.6500              914.2800  \n",
       "3             1          65.7825               24.2575  \n",
       "4             0           3.1800                6.7625  \n",
       "5             1          59.0400              345.5750  "
      ]
     },
     "execution_count": 44,
     "metadata": {},
     "output_type": "execute_result"
    }
   ],
   "source": [
    "df.head()"
   ]
  },
  {
   "cell_type": "code",
   "execution_count": 45,
   "id": "cc83d1db-95cd-4c49-bb44-c565f8d3c78a",
   "metadata": {},
   "outputs": [],
   "source": [
    "df['calories_per_serving_cat'] = df.calories_per_serving.apply(lambda x: 0 if x < 100 else(1 if x < 400 else 2))\n"
   ]
  },
  {
   "cell_type": "code",
   "execution_count": 46,
   "id": "d9983a7b-3df9-4583-bca0-4a43e534ff8a",
   "metadata": {},
   "outputs": [
    {
     "data": {
      "text/plain": [
       "low       465\n",
       "medium    327\n",
       "high      103\n",
       "Name: cal_per_ser_cat, dtype: int64"
      ]
     },
     "execution_count": 46,
     "metadata": {},
     "output_type": "execute_result"
    }
   ],
   "source": [
    "#Create a column representing categories of food calories per serving\n",
    "# less than 100 calories is considered low\n",
    "# 101-400 calories is considered medium\n",
    "# greater than 400 calories is considered high\n",
    "df['cal_per_ser_cat'] = pd.cut(df.calories_per_serving, bins=[0, 100, 400, np.inf], labels=['low', 'medium', 'high'])\n",
    "df.cal_per_ser_cat.value_counts()"
   ]
  },
  {
   "cell_type": "code",
   "execution_count": 47,
   "id": "5c941fb3-d70a-4de1-a3b7-6de6e35d6368",
   "metadata": {},
   "outputs": [],
   "source": [
    "#Get dummy variable\n",
    "clean_df = df.copy()\n",
    "df_dummies = pd.get_dummies(clean_df, columns=['category', 'cal_per_ser_cat',])\n"
   ]
  },
  {
   "cell_type": "code",
   "execution_count": 48,
   "id": "efe603a6-a02d-4eaf-bfa8-cb6d218ac806",
   "metadata": {},
   "outputs": [],
   "source": [
    "#Split the data\n",
    "X = df_dummies.drop(columns='high_traffic').values\n",
    "y = df_dummies['high_traffic'].values\n"
   ]
  },
  {
   "cell_type": "code",
   "execution_count": 49,
   "id": "78c4e4b9-a35e-43b8-b795-1bb2724e6f66",
   "metadata": {},
   "outputs": [],
   "source": [
    "from sklearn.preprocessing import MinMaxScaler, StandardScaler, PowerTransformer\n",
    "from sklearn.model_selection import train_test_split"
   ]
  },
  {
   "cell_type": "code",
   "execution_count": 50,
   "id": "ae7fb85e-03cb-494f-b9d9-fabd1290d1d5",
   "metadata": {},
   "outputs": [],
   "source": [
    "X_train, X_test, y_train, y_test = train_test_split(X, y, test_size=0.25, random_state=1234)\n"
   ]
  },
  {
   "cell_type": "code",
   "execution_count": 51,
   "id": "4c71eefc-c997-4be2-a2ce-e84cec4298eb",
   "metadata": {},
   "outputs": [
    {
     "data": {
      "text/plain": [
       "1    0.602086\n",
       "0    0.397914\n",
       "dtype: float64"
      ]
     },
     "execution_count": 51,
     "metadata": {},
     "output_type": "execute_result"
    }
   ],
   "source": [
    "pd.Series(y_train).value_counts(normalize=True)"
   ]
  },
  {
   "cell_type": "code",
   "execution_count": 52,
   "id": "e1ad5ad0-2557-4efc-9ef1-7471498946c7",
   "metadata": {},
   "outputs": [],
   "source": [
    "#Scale the data\n",
    "features = ['calories', 'carbohydrate', 'sugar', 'protein', 'calories_per_serving']\n",
    "scaler = StandardScaler()\n",
    "\n",
    "X_train_scaled = scaler.fit_transform(X_train)\n",
    "X_test_scaled = scaler.transform(X_test)\n",
    "\n",
    "# X_train_scaled, X_test_scaled = X_train.copy(), X_test.copy()\n",
    "# X_train_scaled[features] = scaler.fit_transform(X_train[features])\n",
    "# X_test_scaled[features] = scaler.transform(X_test[features])"
   ]
  },
  {
   "cell_type": "code",
   "execution_count": 53,
   "id": "a58d9dd9-d2e9-4126-a14b-fb1711d324d6",
   "metadata": {},
   "outputs": [],
   "source": [
    "# X_train.var()"
   ]
  },
  {
   "cell_type": "code",
   "execution_count": 54,
   "id": "8f7aedd1-c3aa-4633-a8b7-92c229062233",
   "metadata": {},
   "outputs": [],
   "source": [
    "# pd.DataFrame(X_train_scaled, columns= df_dummies.drop(columns='high_traffic').columns).var()"
   ]
  },
  {
   "cell_type": "markdown",
   "id": "2e27f684-662c-4f6a-a30f-76315c91fadd",
   "metadata": {},
   "source": [
    "# Model Building\n",
    "\n",
    "Since this is a classification problem, I'll try various different following models with default parameters using 10-fold cross-validation. Here what I got:  \n",
    "\n",
    "\n",
    "|Model|Train Accuracy|Test Accuracy|Precision Score|Recall Score|AUC|10-Fold Accuracy|\n",
    "|----|----------|-------------|---------------|------------|---|----------------|\n",
    "|K Nearest Neighbors|0.822653|0.696429|0.729927|0.763359|0.756587|0.764552|\n",
    "|Logistic Regression|0.789866|0.687500|0.732824|0.732824|0.783140|0.774934|\n",
    "|Decision Tree|1.000000|0.651786|0.699248|0.709924|0.639908|0.658626|\n",
    "|Random Forest|1.000000|0.665179|0.681818|0.801527|0.759583|0.754104|\n",
    "|Support Vector Machine|0.807750|0.696429|0.717241|0.793893|0.740294|0.794315|\n",
    "|XGBoost|1.000000|0.651786|0.675497|0.778626|0.710827|0.724210|\n",
    "\n",
    "- We can see that **Logistic Regression, K Nearest Neighbors,** and **Support Vector Machine** have better performance because they provide high accuracy and less overfitting than other models based on **AUC score** and **Accuracy score using 10-Fold Cross-Validation**."
   ]
  },
  {
   "cell_type": "code",
   "execution_count": 55,
   "id": "b5764c6d-642c-4555-8b5e-f708aaff7583",
   "metadata": {},
   "outputs": [],
   "source": [
    "from sklearn.neighbors import KNeighborsClassifier\n",
    "from sklearn.linear_model import LogisticRegression\n",
    "from sklearn.tree import DecisionTreeClassifier\n",
    "from sklearn.ensemble import RandomForestClassifier\n",
    "from sklearn.svm import SVC\n",
    "from xgboost import XGBClassifier\n",
    "from sklearn.model_selection import cross_val_score\n",
    "from sklearn.metrics import confusion_matrix, precision_score, recall_score, roc_auc_score"
   ]
  },
  {
   "cell_type": "code",
   "execution_count": 56,
   "id": "f22b819b-bf3f-4637-ab29-adc6040f493d",
   "metadata": {},
   "outputs": [],
   "source": [
    "# precision = precision_score(y_test, y_pred)\n",
    "# print(\"Precision score on test set: \", precision)\n",
    "# recall = recall_score(y_test, y_pred)\n",
    "# print(\"Recall score on test set: \", recall) "
   ]
  },
  {
   "cell_type": "code",
   "execution_count": 57,
   "id": "f9b4d204-4349-43ba-8956-f058b816795e",
   "metadata": {},
   "outputs": [],
   "source": [
    "def classifier_performance(model, model_name):\n",
    "    print(\"Classifier: \", model_name)\n",
    "    model.fit(X_train_scaled, y_train)\n",
    "    y_pred = model.predict(X_test_scaled)\n",
    "    y_pred_prob = model.predict_proba(X_test_scaled)[:, 1]\n",
    "    \n",
    "    train_score = model.score(X_train_scaled, y_train)\n",
    "    print(\"Accuracy on training set: \", train_score)\n",
    "    test_score = model.score(X_test_scaled, y_test)\n",
    "    print(\"Accuracy on test set: \", test_score)\n",
    "    print(\"Confusion matrix: \\n\", confusion_matrix(y_test, y_pred))\n",
    "    \n",
    "    auc_score = roc_auc_score(y_test, y_pred_prob)\n",
    "    print(\"ROC/AUC score on test set: \", auc_score)\n",
    "    ave_cross = np.mean(cross_val_score(model, X_train_scaled, y_train, cv=10,  scoring='accuracy'))\n",
    "    print(\"Average accuracy score by 10-fold cross-validation on training set: \", ave_cross)\n",
    "    print(\"---------------------------------------------------\")\n",
    "    \n",
    "    return [train_score, test_score, auc_score, ave_cross]"
   ]
  },
  {
   "cell_type": "code",
   "execution_count": 58,
   "id": "fbcf787b-c1e7-4385-bfd3-e7f147460821",
   "metadata": {},
   "outputs": [
    {
     "name": "stdout",
     "output_type": "stream",
     "text": [
      "Classifier:  K Nearest Neighbors\n",
      "Accuracy on training set:  0.8062593144560357\n",
      "Accuracy on test set:  0.6964285714285714\n",
      "Confusion matrix: \n",
      " [[ 55  38]\n",
      " [ 30 101]]\n",
      "ROC/AUC score on test set:  0.760732167774768\n",
      "Average accuracy score by 10-fold cross-validation on training set:  0.764486391571554\n",
      "---------------------------------------------------\n",
      "Classifier:  Logistic Regression\n",
      "Accuracy on training set:  0.7868852459016393\n",
      "Accuracy on test set:  0.6875\n",
      "Confusion matrix: \n",
      " [[58 35]\n",
      " [35 96]]\n",
      "ROC/AUC score on test set:  0.7827300336534516\n",
      "Average accuracy score by 10-fold cross-validation on training set:  0.782396839332748\n",
      "---------------------------------------------------\n",
      "Classifier:  Decision Tree\n",
      "Accuracy on training set:  1.0\n",
      "Accuracy on test set:  0.6428571428571429\n",
      "Confusion matrix: \n",
      " [[48 45]\n",
      " [35 96]]\n",
      "ROC/AUC score on test set:  0.6244767298694902\n",
      "Average accuracy score by 10-fold cross-validation on training set:  0.6646180860403863\n",
      "---------------------------------------------------\n",
      "Classifier:  Random Forest\n",
      "Accuracy on training set:  1.0\n",
      "Accuracy on test set:  0.6875\n",
      "Confusion matrix: \n",
      " [[ 48  45]\n",
      " [ 25 106]]\n",
      "ROC/AUC score on test set:  0.7678732660264302\n",
      "Average accuracy score by 10-fold cross-validation on training set:  0.7480904302019316\n",
      "---------------------------------------------------\n",
      "Classifier:  Support Vector Machine\n",
      "Accuracy on training set:  0.8062593144560357\n",
      "Accuracy on test set:  0.7008928571428571\n",
      "Confusion matrix: \n",
      " [[ 53  40]\n",
      " [ 27 104]]\n",
      "ROC/AUC score on test set:  0.7309365509316261\n",
      "Average accuracy score by 10-fold cross-validation on training set:  0.7987928007023706\n",
      "---------------------------------------------------\n",
      "Classifier:  XGBoost\n",
      "Accuracy on training set:  1.0\n",
      "Accuracy on test set:  0.6696428571428571\n",
      "Confusion matrix: \n",
      " [[ 45  48]\n",
      " [ 26 105]]\n",
      "ROC/AUC score on test set:  0.7111548879586308\n",
      "Average accuracy score by 10-fold cross-validation on training set:  0.7063213345039508\n",
      "---------------------------------------------------\n"
     ]
    }
   ],
   "source": [
    "cls = [(KNeighborsClassifier(), \"K Nearest Neighbors\"),\n",
    "       (LogisticRegression(), \"Logistic Regression\"),\n",
    "       (DecisionTreeClassifier(), \"Decision Tree\"),\n",
    "       (RandomForestClassifier(), \"Random Forest\"),\n",
    "       (SVC(probability=True), \"Support Vector Machine\"),\n",
    "       (XGBClassifier(eval_metric='mlogloss', use_label_encoder=False), \"XGBoost\")]\n",
    "      \n",
    "scores = {}\n",
    "for model, model_name in cls:    \n",
    "    scores[model_name] = classifier_performance(model, model_name)"
   ]
  },
  {
   "cell_type": "code",
   "execution_count": 59,
   "id": "bfb44c08-8377-4f3e-ac25-fb8a0db0585c",
   "metadata": {},
   "outputs": [
    {
     "data": {
      "text/html": [
       "<div>\n",
       "<style scoped>\n",
       "    .dataframe tbody tr th:only-of-type {\n",
       "        vertical-align: middle;\n",
       "    }\n",
       "\n",
       "    .dataframe tbody tr th {\n",
       "        vertical-align: top;\n",
       "    }\n",
       "\n",
       "    .dataframe thead th {\n",
       "        text-align: right;\n",
       "    }\n",
       "</style>\n",
       "<table border=\"1\" class=\"dataframe\">\n",
       "  <thead>\n",
       "    <tr style=\"text-align: right;\">\n",
       "      <th></th>\n",
       "      <th>Train Accuracy</th>\n",
       "      <th>Test Accuracy</th>\n",
       "      <th>AUC</th>\n",
       "      <th>10-Fold Accuracy</th>\n",
       "    </tr>\n",
       "  </thead>\n",
       "  <tbody>\n",
       "    <tr>\n",
       "      <th>Support Vector Machine</th>\n",
       "      <td>0.806259</td>\n",
       "      <td>0.700893</td>\n",
       "      <td>0.730937</td>\n",
       "      <td>0.798793</td>\n",
       "    </tr>\n",
       "    <tr>\n",
       "      <th>Logistic Regression</th>\n",
       "      <td>0.786885</td>\n",
       "      <td>0.687500</td>\n",
       "      <td>0.782730</td>\n",
       "      <td>0.782397</td>\n",
       "    </tr>\n",
       "    <tr>\n",
       "      <th>K Nearest Neighbors</th>\n",
       "      <td>0.806259</td>\n",
       "      <td>0.696429</td>\n",
       "      <td>0.760732</td>\n",
       "      <td>0.764486</td>\n",
       "    </tr>\n",
       "    <tr>\n",
       "      <th>Random Forest</th>\n",
       "      <td>1.000000</td>\n",
       "      <td>0.687500</td>\n",
       "      <td>0.767873</td>\n",
       "      <td>0.748090</td>\n",
       "    </tr>\n",
       "    <tr>\n",
       "      <th>XGBoost</th>\n",
       "      <td>1.000000</td>\n",
       "      <td>0.669643</td>\n",
       "      <td>0.711155</td>\n",
       "      <td>0.706321</td>\n",
       "    </tr>\n",
       "    <tr>\n",
       "      <th>Decision Tree</th>\n",
       "      <td>1.000000</td>\n",
       "      <td>0.642857</td>\n",
       "      <td>0.624477</td>\n",
       "      <td>0.664618</td>\n",
       "    </tr>\n",
       "  </tbody>\n",
       "</table>\n",
       "</div>"
      ],
      "text/plain": [
       "                        Train Accuracy  Test Accuracy       AUC  \\\n",
       "Support Vector Machine        0.806259       0.700893  0.730937   \n",
       "Logistic Regression           0.786885       0.687500  0.782730   \n",
       "K Nearest Neighbors           0.806259       0.696429  0.760732   \n",
       "Random Forest                 1.000000       0.687500  0.767873   \n",
       "XGBoost                       1.000000       0.669643  0.711155   \n",
       "Decision Tree                 1.000000       0.642857  0.624477   \n",
       "\n",
       "                        10-Fold Accuracy  \n",
       "Support Vector Machine          0.798793  \n",
       "Logistic Regression             0.782397  \n",
       "K Nearest Neighbors             0.764486  \n",
       "Random Forest                   0.748090  \n",
       "XGBoost                         0.706321  \n",
       "Decision Tree                   0.664618  "
      ]
     },
     "metadata": {},
     "output_type": "display_data"
    },
    {
     "data": {
      "image/png": "[encoded data removed]",
      "text/plain": [
       "<Figure size 1080x576 with 1 Axes>"
      ]
     },
     "metadata": {},
     "output_type": "display_data"
    }
   ],
   "source": [
    "performance = pd.DataFrame.from_dict(scores, orient='index', columns=['Train Accuracy', 'Test Accuracy', 'AUC', '10-Fold Accuracy'])\n",
    "performance = performance.sort_values('10-Fold Accuracy', ascending=False)\n",
    "display(performance)\n",
    "performance.plot(kind='barh', figsize=(15,8))\n",
    "plt.xlabel(\"Score\", fontsize=15)\n",
    "plt.ylabel(\"Model\", fontsize=15)\n",
    "plt.title(\"Model Performance\", fontweight='bold', fontsize=15)\n",
    "plt.legend(loc='best')\n",
    "# plt.savefig('baseline.png', bbox_inches='tight')\n",
    "plt.show()"
   ]
  },
  {
   "cell_type": "markdown",
   "id": "7fc21001-3306-476e-82c6-4a83b4fa4e23",
   "metadata": {},
   "source": [
    "- We can see in this graph that **Logistic Regression, K Nearest Neighbors,** and **Support Vector Machine** have better performance."
   ]
  },
  {
   "cell_type": "markdown",
   "id": "80b11f8f-28c9-43bf-b73f-a1c6c599ac97",
   "metadata": {},
   "source": [
    "## Hyperparameter Tuning\n",
    "- After getting the baselines, I use GridSeachCV and RandomizedSearchCV with 10-fold cross-validation for the three best models above to improve each model's result.\n",
    "\n",
    "|Model|Baseline Accuracy |Tuned Accuracy| Tuned AUC|\n",
    "|----|-------|----|----|\n",
    "|K Nearest Neighbors|0.764552|0.783867|0.781253|\n",
    "|Logistic Regression|0.774934 |0.779434|0.773783|\n",
    "|Support Vector Machine|0.794315 | 0.800263|0.725601|\n",
    "\n",
    "- Although SVC model has the least AUC score, we have reasonably balanced data (60% High and 40% Low in target variable) so Accuracy score is more appropriate  in this case."
   ]
  },
  {
   "cell_type": "code",
   "execution_count": 60,
   "id": "121386ce-e907-4fa4-ad05-03d87c888dac",
   "metadata": {},
   "outputs": [],
   "source": [
    "from sklearn.model_selection import GridSearchCV, RandomizedSearchCV"
   ]
  },
  {
   "cell_type": "code",
   "execution_count": 61,
   "id": "baf94a11-ef94-48f0-b3f1-d64c2db66034",
   "metadata": {},
   "outputs": [],
   "source": [
    "def tuned_performance(model, model_name):\n",
    "    print(\"Classifier: \", model_name)\n",
    "    model.fit(X_train_scaled, y_train)\n",
    "    y_pred = model.predict(X_test_scaled)\n",
    "    y_pred_proba = model.predict_proba(X_test_scaled)[:, 1]\n",
    "    auc = roc_auc_score(y_test, y_pred_proba)\n",
    "    print('ROC/AUC score on test set: ', auc)\n",
    "    ave_cross = np.mean(cross_val_score(model, X_train_scaled, y_train, cv=10))\n",
    "    print(\"Average accuracy score using 10-fold cross-validation\", ave_cross)\n",
    "    \n",
    "    return [ave_cross, auc]"
   ]
  },
  {
   "cell_type": "code",
   "execution_count": 62,
   "id": "f9ebe199-cfd6-44ec-b71f-aeb628fcc2b6",
   "metadata": {},
   "outputs": [],
   "source": [
    "tuned_scores = {}"
   ]
  },
  {
   "cell_type": "markdown",
   "id": "a96b7d0f-26b8-4a41-82ba-199b1b6d3842",
   "metadata": {},
   "source": [
    "#### Best KNN"
   ]
  },
  {
   "cell_type": "code",
   "execution_count": 63,
   "id": "a4ff0369-6001-4ebb-a603-6b7190e55d95",
   "metadata": {},
   "outputs": [
    {
     "name": "stdout",
     "output_type": "stream",
     "text": [
      "Best score:  0.7794117647058824\n",
      "Best parameters:  {'p': 2, 'n_neighbors': 25, 'leaf_size': 43}\n"
     ]
    }
   ],
   "source": [
    "params = {'n_neighbors': list(range(1, 30)),\n",
    "          'leaf_size': list(range(1, 50)),\n",
    "          'p': [1, 2]}\n",
    "knn = KNeighborsClassifier()\n",
    "knn_cv = RandomizedSearchCV(knn, param_distributions=params, cv=10 )\n",
    "knn_result = knn_cv.fit(X_train_scaled, y_train)\n",
    "print('Best score: ', knn_result.best_score_)\n",
    "print('Best parameters: ', knn_result.best_params_)\n"
   ]
  },
  {
   "cell_type": "code",
   "execution_count": 64,
   "id": "d9a1f94a-0243-4d03-8020-8f18300b099d",
   "metadata": {},
   "outputs": [],
   "source": [
    "# best_knn = knn_result.best_estimator_\n",
    "# classifier_performance(KNeighborsClassifier(leaf_size=27, n_neighbors=28, p=1), \"Best KNN\")"
   ]
  },
  {
   "cell_type": "code",
   "execution_count": 65,
   "id": "c85eafb4-b982-4a18-992b-88888835f529",
   "metadata": {},
   "outputs": [
    {
     "name": "stdout",
     "output_type": "stream",
     "text": [
      "Classifier:  Best K Nearest Neighbors\n",
      "ROC/AUC score on test set:  0.7883115817122219\n",
      "Average accuracy score using 10-fold cross-validation 0.7794117647058824\n"
     ]
    }
   ],
   "source": [
    "best_knn = knn_result.best_estimator_\n",
    "tuned_scores['Best KNN'] = tuned_performance(best_knn, 'Best K Nearest Neighbors')"
   ]
  },
  {
   "cell_type": "markdown",
   "id": "00e74bfa-ba0c-4319-94d8-458fc094a66d",
   "metadata": {},
   "source": [
    "#### Best Logistic Regression"
   ]
  },
  {
   "cell_type": "code",
   "execution_count": 66,
   "id": "1e85b634-11f7-48ad-8b51-9caee976639c",
   "metadata": {},
   "outputs": [
    {
     "name": "stdout",
     "output_type": "stream",
     "text": [
      "Best score:  0.7838893766461809\n",
      "Best parameters:  {'C': 0.01, 'max_iter': 1000, 'penalty': 'l2', 'solver': 'liblinear', 'tol': 0.0001}\n"
     ]
    }
   ],
   "source": [
    "params = {'max_iter': [1000],\n",
    "          'penalty': ['l2'],\n",
    "          'solver': ['lbfgs', 'liblinear', 'newton-cg'],\n",
    "          'tol': [0.0001, 0.001],\n",
    "         'C': [0.01, 0.1, 1.0, 10.0]}\n",
    "logreg = LogisticRegression()\n",
    "logreg_cv = GridSearchCV(logreg, param_grid=params, cv=10 )\n",
    "logreg_result = logreg_cv.fit(X_train_scaled, y_train)\n",
    "print('Best score: ', logreg_result.best_score_)\n",
    "print('Best parameters: ', logreg_result.best_params_)\n",
    "\n",
    "# 0.7718309859154929\n",
    "# {'C': 1.0, 'max_iter': 1000, 'penalty': 'l2', 'solver': 'lbfgs', 'tol': 0.0001}"
   ]
  },
  {
   "cell_type": "code",
   "execution_count": 67,
   "id": "5bb1da33-9f4f-40f6-8529-aaad2d95682a",
   "metadata": {},
   "outputs": [
    {
     "name": "stdout",
     "output_type": "stream",
     "text": [
      "Classifier:  Best Logistic Regression\n",
      "ROC/AUC score on test set:  0.7726339981942051\n",
      "Average accuracy score using 10-fold cross-validation 0.7838893766461809\n"
     ]
    }
   ],
   "source": [
    "best_logreg = logreg_result.best_estimator_\n",
    "tuned_scores['Best logreg'] = tuned_performance(best_logreg, 'Best Logistic Regression')"
   ]
  },
  {
   "cell_type": "markdown",
   "id": "c856204e-c685-4cae-8b43-e263018226cc",
   "metadata": {},
   "source": [
    "##### Best SVC"
   ]
  },
  {
   "cell_type": "code",
   "execution_count": 68,
   "id": "003c143b-eed0-4943-ac89-a493724e45fa",
   "metadata": {},
   "outputs": [
    {
     "name": "stdout",
     "output_type": "stream",
     "text": [
      "Best score:  0.8032484635645304\n",
      "Best parameters:  {'C': 10, 'gamma': 0.01, 'kernel': 'rbf'}\n"
     ]
    }
   ],
   "source": [
    "params = {'C': [0.1, 1, 10, 100], \n",
    "          'gamma': [1, 0.1, 0.01, 0.001],\n",
    "          'kernel': ['rbf'],} \n",
    "svc = SVC(probability=True)\n",
    "svc_cv = GridSearchCV(svc, param_grid=params, cv=10 )\n",
    "svc_result = svc_cv.fit(X_train_scaled, y_train)\n",
    "print('Best score: ', svc_result.best_score_)\n",
    "print('Best parameters: ', svc_result.best_params_)"
   ]
  },
  {
   "cell_type": "code",
   "execution_count": 69,
   "id": "c45d736f-7544-4eb7-b1bc-bab1e7e82d50",
   "metadata": {},
   "outputs": [
    {
     "name": "stdout",
     "output_type": "stream",
     "text": [
      "Classifier:  Best SVC\n",
      "ROC/AUC score on test set:  0.7379955675941885\n",
      "Average accuracy score using 10-fold cross-validation 0.8032484635645304\n"
     ]
    }
   ],
   "source": [
    "best_svc = svc_result.best_estimator_\n",
    "tuned_scores['Best SVC'] = tuned_performance(best_svc, 'Best SVC')"
   ]
  },
  {
   "cell_type": "code",
   "execution_count": 70,
   "id": "d56ee115-b9ec-4e5c-a9fb-8072d8ebe52d",
   "metadata": {},
   "outputs": [
    {
     "data": {
      "image/png": "[encoded data removed]",
      "text/plain": [
       "<Figure size 720x360 with 1 Axes>"
      ]
     },
     "metadata": {},
     "output_type": "display_data"
    }
   ],
   "source": [
    "tuned_scores_df = pd.DataFrame.from_dict(tuned_scores, orient='index', columns=['10-Fold Accuracy', 'AUC'])\n",
    "tuned_scores_df.sort_values('10-Fold Accuracy').plot(kind='barh', figsize=(10,5), xlim=(0,1))\n",
    "\n",
    "plt.xlabel(\"Score\")\n",
    "plt.ylabel(\"Model\")\n",
    "plt.title(\"Tuned Model Performance\", fontweight='bold', fontsize=15)\n",
    "plt.legend(loc='best')\n",
    "\n",
    "plt.text(0.81, 1.83, \"0.802\", fontweight='bold', fontsize=15, color='red')\n",
    "plt.annotate(\"Best score\", xy=(0.85, 1.82), xytext=(0.9, 1.2),\n",
    "             fontweight=\"bold\", fontsize=11,\n",
    "             arrowprops={'facecolor':'#192490',\n",
    "                        'shrink':0.025,\n",
    "                        'connectionstyle':'arc3, rad=-0.3'})\n",
    "# plt.savefig('Tuned.png', bbox_inches='tight')\n",
    "plt.show()\n"
   ]
  },
  {
   "cell_type": "code",
   "execution_count": null,
   "id": "613fed45-529a-488c-ab52-151006afbb06",
   "metadata": {},
   "outputs": [],
   "source": []
  },
  {
   "cell_type": "markdown",
   "id": "9c5042af-7f73-4808-b735-c262418c9395",
   "metadata": {},
   "source": [
    "## ✅ When you have finished...\n",
    "-  Publish your Workspace using the option on the left\n",
    "-  Check the published version of your report:\n",
    "\t-  Can you see everything you want us to grade?\n",
    "    -  Are all the graphics visible?\n",
    "-  Review the grading rubric. Have you included everything that will be graded?\n",
    "-  Head back to the [Certification Dashboard](https://app.datacamp.com/certification) to submit your practical exam report and record your presentation"
   ]
  }
 ],
 "metadata": {
  "colab": {
   "name": "Welcome to DataCamp Workspaces.ipynb",
   "provenance": []
  },
  "kernelspec": {
   "display_name": "Python 3 (ipykernel)",
   "language": "python",
   "name": "python3"
  },
  "language_info": {
   "codemirror_mode": {
    "name": "ipython",
    "version": 3
   },
   "file_extension": ".py",
   "mimetype": "text/x-python",
   "name": "python",
   "nbconvert_exporter": "python",
   "pygments_lexer": "ipython3",
   "version": "3.9.7"
  }
 },
 "nbformat": 4,
 "nbformat_minor": 5
}
